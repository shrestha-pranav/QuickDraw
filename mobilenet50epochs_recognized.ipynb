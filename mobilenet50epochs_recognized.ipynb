{
 "cells": [
  {
   "cell_type": "markdown",
   "metadata": {
    "_cell_guid": "79c7e3d0-c299-4dcb-8224-4455121ee9b0",
    "_uuid": "d629ff2d2480ee46fbb7e2d37f6b5fab8052498a",
    "collapsed": true
   },
   "source": [
    "# Keras MobileNet Benchmark\n",
    "(Note: Forked from Beluga : [https://www.kaggle.com/gaborfodor/greyscale-mobilenet-lb-0-892])\n",
    "\n",
    "In a previous benchmark we used a simple three layer ConvNet. This time we use a deeper MobileNet architecture on greyscale strokes. \n",
    "\n",
    "This kernel has three main components:\n",
    "\n",
    "* MobileNet\n",
    "* Fast and memory efficient Image Generator with temporal \n",
    "* Full training & submission with Kaggle Kernel\n",
    "\n",
    "I did some paramer search but it should not be hard to improve the current score."
   ]
  },
  {
   "cell_type": "markdown",
   "metadata": {
    "_uuid": "f7f2a9516140a84124bf7bbf538ee4c30860b778"
   },
   "source": [
    "## Setup\n",
    "Import the necessary libraries and a few helper functions."
   ]
  },
  {
   "cell_type": "code",
   "execution_count": 1,
   "metadata": {
    "_kg_hide-input": true,
    "_uuid": "ce6d2aa7de1fa341144def7d3a5b1ffdea26bc91"
   },
   "outputs": [
    {
     "name": "stderr",
     "output_type": "stream",
     "text": [
      "Using TensorFlow backend.\n"
     ]
    }
   ],
   "source": [
    "%matplotlib inline\n",
    "from IPython.core.interactiveshell import InteractiveShell\n",
    "InteractiveShell.ast_node_interactivity = \"all\"\n",
    "import os\n",
    "import ast\n",
    "import datetime as dt\n",
    "import matplotlib.pyplot as plt\n",
    "plt.rcParams['figure.figsize'] = [16, 10]\n",
    "plt.rcParams['font.size'] = 14\n",
    "import seaborn as sns\n",
    "import cv2\n",
    "import math\n",
    "import pandas as pd\n",
    "import numpy as np\n",
    "import tensorflow as tf\n",
    "import keras\n",
    "from keras.models import Sequential\n",
    "from keras.layers import Conv2D, MaxPooling2D\n",
    "from keras.layers import Dense, Dropout, Flatten, Activation\n",
    "\n",
    "from keras.metrics import categorical_accuracy, top_k_categorical_accuracy, categorical_crossentropy\n",
    "from keras.callbacks import EarlyStopping, ReduceLROnPlateau, ModelCheckpoint\n",
    "from keras.optimizers import Adam\n",
    "\n",
    "from keras.applications import MobileNet\n",
    "from keras.applications.mobilenet import preprocess_input\n",
    "\n",
    "start = dt.datetime.now()"
   ]
  },
  {
   "cell_type": "code",
   "execution_count": 2,
   "metadata": {
    "_kg_hide-input": true,
    "_uuid": "978b1e827e598c53df3ef09838a6d85591d83052"
   },
   "outputs": [],
   "source": [
    "DP_DIR = '../input/shuffle-csvs/'\n",
    "INPUT_DIR = '../input/'\n",
    "\n",
    "BASE_SIZE = 256\n",
    "NCSVS = 100\n",
    "NCATS = 340\n",
    "np.random.seed(seed=1987)\n",
    "tf.set_random_seed(seed=1987)\n",
    "def f2cat(filename: str) -> str:\n",
    "    return filename.split('.')[0]\n",
    "\n",
    "def list_all_categories():\n",
    "    files = os.listdir(os.path.join(INPUT_DIR, 'train_simplified'))\n",
    "    return sorted([f2cat(f) for f in files], key=str.lower)"
   ]
  },
  {
   "cell_type": "code",
   "execution_count": 3,
   "metadata": {
    "_kg_hide-input": true,
    "_uuid": "b2fcd1a08ae1ae0619be38a113a244eb6515b63b"
   },
   "outputs": [],
   "source": [
    "def apk(actual, predicted, k=3):\n",
    "    \"\"\"\n",
    "    Source: https://github.com/benhamner/Metrics/blob/master/Python/ml_metrics/average_precision.py\n",
    "    \"\"\"\n",
    "    if len(predicted) > k:\n",
    "        predicted = predicted[:k]\n",
    "\n",
    "    score = 0.0\n",
    "    num_hits = 0.0\n",
    "\n",
    "    for i, p in enumerate(predicted):\n",
    "        if p in actual and p not in predicted[:i]:\n",
    "            num_hits += 1.0\n",
    "            score += num_hits / (i + 1.0)\n",
    "\n",
    "    if not actual:\n",
    "        return 0.0\n",
    "\n",
    "    return score / min(len(actual), k)\n",
    "\n",
    "def mapk(actual, predicted, k=3):\n",
    "    \"\"\"\n",
    "    Source: https://github.com/benhamner/Metrics/blob/master/Python/ml_metrics/average_precision.py\n",
    "    \"\"\"\n",
    "    return np.mean([apk(a, p, k) for a, p in zip(actual, predicted)])\n",
    "\n",
    "def preds2catids(predictions):\n",
    "    return pd.DataFrame(np.argsort(-predictions, axis=1)[:, :3], columns=['a', 'b', 'c'])\n",
    "\n",
    "def top_3_accuracy(y_true, y_pred):\n",
    "    return top_k_categorical_accuracy(y_true, y_pred, k=3)"
   ]
  },
  {
   "cell_type": "markdown",
   "metadata": {
    "_uuid": "264156422a95e4b350886d558d516ae8bd2e25c0"
   },
   "source": [
    "## MobileNet\n",
    "\n",
    "MobileNets are based on a streamlined architecture that uses depthwise separable convolutions to build light weight deep neural networks.\n",
    "\n",
    "[MobileNets: Efficient Convolutional Neural Networks for Mobile Vision Applications](https://arxiv.org/pdf/1704.04861.pdf)"
   ]
  },
  {
   "cell_type": "code",
   "execution_count": 4,
   "metadata": {
    "_uuid": "54e5f0c637195b6624e2f3e6db5e7f8990e14eb7"
   },
   "outputs": [],
   "source": [
    "STEPS = 2000\n",
    "EPOCHS = 10\n",
    "BASE_SIZE = size = 128\n",
    "batchsize = 256\n",
    "stroke_size = 3"
   ]
  },
  {
   "cell_type": "code",
   "execution_count": null,
   "metadata": {},
   "outputs": [],
   "source": [
    "from collections import defaultdict\n",
    "\n",
    "NCOUNTRY = 21\n",
    "def one_hot(x, classes=21):\n",
    "    tmp = np.zeros(classes)\n",
    "    tmp[x] = 1\n",
    "    return tmp\n",
    "\n",
    "countrycodes = ['US', 'GB', 'CA', 'DE', 'AU', 'RU', 'BR', 'SE', 'FI', 'CZ', 'IT', 'PL', 'FR', 'KR', 'TH', 'PH', 'SA', 'HU', 'NL', 'ID']\n",
    "countrymap = defaultdict(lambda: NCOUNTRY-1)\n",
    "for i, country in enumerate(countrycodes): countrymap[country]=i\n",
    "    \n",
    "def countrymapper(x):\n",
    "    mapped = np.zeros((x.shape[0], NCOUNTRY))\n",
    "    print(mapped.shape)\n",
    "    for i, country in enumerate(x):\n",
    "        mapped[i][countrymap[country]] = 1\n",
    "    return mapped"
   ]
  },
  {
   "cell_type": "code",
   "execution_count": 5,
   "metadata": {
    "_uuid": "f6455bf9555b8381b6a4292098a64a0eb7ff54dc"
   },
   "outputs": [],
   "source": [
    "def draw_cv2(raw_strokes, lw=stroke_size, time_color=True):\n",
    "    img = np.zeros((size, size), np.uint8)\n",
    "    for t in range(len(raw_strokes)-1, -1, -1):\n",
    "        stroke = raw_strokes[t]\n",
    "        for i in range(len(stroke[0]) - 1):\n",
    "            color = 255 - min(t, 10) * 13 if time_color else 255\n",
    "            _ = cv2.line(img, (stroke[0][i], stroke[1][i]),\n",
    "                         (stroke[0][i + 1], stroke[1][i + 1]), color, lw)\n",
    "    return img\n",
    "    \n",
    "def sample(strokes, downsize_to=size-2):\n",
    "    division = 256 / downsize_to\n",
    "    for i in range(len(strokes)):\n",
    "        for j in range(len(strokes[i])):\n",
    "            for k in range(len(strokes[i][j])):\n",
    "                strokes[i][j][k] = round(strokes[i][j][k]/division)+1\n",
    "    return strokes\n",
    "\n",
    "def image_generator_xd(size, batchsize, ks, lw=stroke_size, time_color=True):\n",
    "    while True:\n",
    "        for k in np.random.permutation(ks):\n",
    "            filename = os.path.join(DP_DIR, 'train_k{}.csv.gz'.format(k))\n",
    "            for df in pd.read_csv(filename, chunksize=batchsize):\n",
    "                df = df[df.recognized]\n",
    "                df['drawing'] = df.drawing.apply(ast.literal_eval)\n",
    "                df['scaled_drawing'] = df.drawing.apply(sample)\n",
    "                x = np.zeros((len(df), size, size, 1))\n",
    "                for i, raw_strokes in enumerate(df.scaled_drawing.values):\n",
    "                    x[i, :, :, 0] = draw_cv2(raw_strokes, lw=lw, time_color=True)\n",
    "                x = preprocess_input(x).astype(np.float32)\n",
    "                \n",
    "#                 x2 = countrymapper(df.countrycode)\n",
    "                \n",
    "                y = keras.utils.to_categorical(df.y, num_classes=NCATS)\n",
    "                yield x, y\n",
    "#                 yield [x, x2], y\n",
    "\n",
    "def df_to_image_array_xd(df, size, lw=stroke_size, time_color=True):\n",
    "    df['drawing'] = df.drawing.apply(ast.literal_eval)\n",
    "    df['scaled_drawing'] = df.drawing.apply(sample)\n",
    "    x = np.zeros((len(df), size, size, 1))\n",
    "    for i, raw_strokes in enumerate(df.scaled_drawing.values):\n",
    "        x[i, :, :, 0] = draw_cv2(raw_strokes, lw=lw, time_color=True)\n",
    "    x = preprocess_input(x).astype(np.float32)\n",
    "    return x"
   ]
  },
  {
   "cell_type": "code",
   "execution_count": 6,
   "metadata": {
    "_uuid": "98ff512e1a1b5e86e86d9eef4127525bedf3b9e1"
   },
   "outputs": [
    {
     "name": "stdout",
     "output_type": "stream",
     "text": [
      "(60000, 128, 128, 1) (60000, 340)\n",
      "Validation array memory 3.66 GB\n"
     ]
    }
   ],
   "source": [
    "valid_df = pd.read_csv(os.path.join(DP_DIR, 'train_k{}.csv.gz'.format(NCSVS - 1)), nrows=60000)\n",
    "x_valid = df_to_image_array_xd(valid_df, size)\n",
    "y_valid = keras.utils.to_categorical(valid_df.y, num_classes=NCATS)\n",
    "print(x_valid.shape, y_valid.shape)\n",
    "print('Validation array memory {:.2f} GB'.format(x_valid.nbytes / 1024.**3 ))"
   ]
  },
  {
   "cell_type": "code",
   "execution_count": 7,
   "metadata": {
    "_uuid": "d80ad7f4d378ea7f30479221d604eeeed559cae4"
   },
   "outputs": [],
   "source": [
    "train_datagen = image_generator_xd(size=size, batchsize=batchsize, ks=range(NCSVS - 1))"
   ]
  },
  {
   "cell_type": "code",
   "execution_count": null,
   "metadata": {
    "_uuid": "9ce5fb89fbb77777316d6fca7689b6636c0e6021"
   },
   "outputs": [],
   "source": [
    "x, y = next(train_datagen)\n",
    "n = 8\n",
    "fig, axs = plt.subplots(nrows=n, ncols=n, sharex=True, sharey=True, figsize=(12, 12))\n",
    "for i in range(n**2):\n",
    "    ax = axs[i // n, i % n]\n",
    "    (-x[i]+1)/2\n",
    "    ax.imshow((-x[i, :, :, 0] + 1)/2, cmap=plt.cm.gray)\n",
    "    ax.axis('off')\n",
    "plt.tight_layout()\n",
    "fig.savefig('gs.png', dpi=300)\n",
    "plt.show();"
   ]
  },
  {
   "cell_type": "code",
   "execution_count": 14,
   "metadata": {},
   "outputs": [
    {
     "name": "stdout",
     "output_type": "stream",
     "text": [
      "_________________________________________________________________\n",
      "Layer (type)                 Output Shape              Param #   \n",
      "=================================================================\n",
      "input_2 (InputLayer)         (None, 128, 128, 1)       0         \n",
      "_________________________________________________________________\n",
      "conv1_pad (ZeroPadding2D)    (None, 129, 129, 1)       0         \n",
      "_________________________________________________________________\n",
      "conv1 (Conv2D)               (None, 64, 64, 32)        288       \n",
      "_________________________________________________________________\n",
      "conv1_bn (BatchNormalization (None, 64, 64, 32)        128       \n",
      "_________________________________________________________________\n",
      "conv1_relu (ReLU)            (None, 64, 64, 32)        0         \n",
      "_________________________________________________________________\n",
      "conv_dw_1 (DepthwiseConv2D)  (None, 64, 64, 32)        288       \n",
      "_________________________________________________________________\n",
      "conv_dw_1_bn (BatchNormaliza (None, 64, 64, 32)        128       \n",
      "_________________________________________________________________\n",
      "conv_dw_1_relu (ReLU)        (None, 64, 64, 32)        0         \n",
      "_________________________________________________________________\n",
      "conv_pw_1 (Conv2D)           (None, 64, 64, 64)        2048      \n",
      "_________________________________________________________________\n",
      "conv_pw_1_bn (BatchNormaliza (None, 64, 64, 64)        256       \n",
      "_________________________________________________________________\n",
      "conv_pw_1_relu (ReLU)        (None, 64, 64, 64)        0         \n",
      "_________________________________________________________________\n",
      "conv_pad_2 (ZeroPadding2D)   (None, 65, 65, 64)        0         \n",
      "_________________________________________________________________\n",
      "conv_dw_2 (DepthwiseConv2D)  (None, 32, 32, 64)        576       \n",
      "_________________________________________________________________\n",
      "conv_dw_2_bn (BatchNormaliza (None, 32, 32, 64)        256       \n",
      "_________________________________________________________________\n",
      "conv_dw_2_relu (ReLU)        (None, 32, 32, 64)        0         \n",
      "_________________________________________________________________\n",
      "conv_pw_2 (Conv2D)           (None, 32, 32, 128)       8192      \n",
      "_________________________________________________________________\n",
      "conv_pw_2_bn (BatchNormaliza (None, 32, 32, 128)       512       \n",
      "_________________________________________________________________\n",
      "conv_pw_2_relu (ReLU)        (None, 32, 32, 128)       0         \n",
      "_________________________________________________________________\n",
      "conv_dw_3 (DepthwiseConv2D)  (None, 32, 32, 128)       1152      \n",
      "_________________________________________________________________\n",
      "conv_dw_3_bn (BatchNormaliza (None, 32, 32, 128)       512       \n",
      "_________________________________________________________________\n",
      "conv_dw_3_relu (ReLU)        (None, 32, 32, 128)       0         \n",
      "_________________________________________________________________\n",
      "conv_pw_3 (Conv2D)           (None, 32, 32, 128)       16384     \n",
      "_________________________________________________________________\n",
      "conv_pw_3_bn (BatchNormaliza (None, 32, 32, 128)       512       \n",
      "_________________________________________________________________\n",
      "conv_pw_3_relu (ReLU)        (None, 32, 32, 128)       0         \n",
      "_________________________________________________________________\n",
      "conv_pad_4 (ZeroPadding2D)   (None, 33, 33, 128)       0         \n",
      "_________________________________________________________________\n",
      "conv_dw_4 (DepthwiseConv2D)  (None, 16, 16, 128)       1152      \n",
      "_________________________________________________________________\n",
      "conv_dw_4_bn (BatchNormaliza (None, 16, 16, 128)       512       \n",
      "_________________________________________________________________\n",
      "conv_dw_4_relu (ReLU)        (None, 16, 16, 128)       0         \n",
      "_________________________________________________________________\n",
      "conv_pw_4 (Conv2D)           (None, 16, 16, 256)       32768     \n",
      "_________________________________________________________________\n",
      "conv_pw_4_bn (BatchNormaliza (None, 16, 16, 256)       1024      \n",
      "_________________________________________________________________\n",
      "conv_pw_4_relu (ReLU)        (None, 16, 16, 256)       0         \n",
      "_________________________________________________________________\n",
      "conv_dw_5 (DepthwiseConv2D)  (None, 16, 16, 256)       2304      \n",
      "_________________________________________________________________\n",
      "conv_dw_5_bn (BatchNormaliza (None, 16, 16, 256)       1024      \n",
      "_________________________________________________________________\n",
      "conv_dw_5_relu (ReLU)        (None, 16, 16, 256)       0         \n",
      "_________________________________________________________________\n",
      "conv_pw_5 (Conv2D)           (None, 16, 16, 256)       65536     \n",
      "_________________________________________________________________\n",
      "conv_pw_5_bn (BatchNormaliza (None, 16, 16, 256)       1024      \n",
      "_________________________________________________________________\n",
      "conv_pw_5_relu (ReLU)        (None, 16, 16, 256)       0         \n",
      "_________________________________________________________________\n",
      "conv_pad_6 (ZeroPadding2D)   (None, 17, 17, 256)       0         \n",
      "_________________________________________________________________\n",
      "conv_dw_6 (DepthwiseConv2D)  (None, 8, 8, 256)         2304      \n",
      "_________________________________________________________________\n",
      "conv_dw_6_bn (BatchNormaliza (None, 8, 8, 256)         1024      \n",
      "_________________________________________________________________\n",
      "conv_dw_6_relu (ReLU)        (None, 8, 8, 256)         0         \n",
      "_________________________________________________________________\n",
      "conv_pw_6 (Conv2D)           (None, 8, 8, 512)         131072    \n",
      "_________________________________________________________________\n",
      "conv_pw_6_bn (BatchNormaliza (None, 8, 8, 512)         2048      \n",
      "_________________________________________________________________\n",
      "conv_pw_6_relu (ReLU)        (None, 8, 8, 512)         0         \n",
      "_________________________________________________________________\n",
      "conv_dw_7 (DepthwiseConv2D)  (None, 8, 8, 512)         4608      \n",
      "_________________________________________________________________\n",
      "conv_dw_7_bn (BatchNormaliza (None, 8, 8, 512)         2048      \n",
      "_________________________________________________________________\n",
      "conv_dw_7_relu (ReLU)        (None, 8, 8, 512)         0         \n",
      "_________________________________________________________________\n",
      "conv_pw_7 (Conv2D)           (None, 8, 8, 512)         262144    \n",
      "_________________________________________________________________\n",
      "conv_pw_7_bn (BatchNormaliza (None, 8, 8, 512)         2048      \n",
      "_________________________________________________________________\n",
      "conv_pw_7_relu (ReLU)        (None, 8, 8, 512)         0         \n",
      "_________________________________________________________________\n",
      "conv_dw_8 (DepthwiseConv2D)  (None, 8, 8, 512)         4608      \n",
      "_________________________________________________________________\n",
      "conv_dw_8_bn (BatchNormaliza (None, 8, 8, 512)         2048      \n",
      "_________________________________________________________________\n",
      "conv_dw_8_relu (ReLU)        (None, 8, 8, 512)         0         \n",
      "_________________________________________________________________\n",
      "conv_pw_8 (Conv2D)           (None, 8, 8, 512)         262144    \n",
      "_________________________________________________________________\n",
      "conv_pw_8_bn (BatchNormaliza (None, 8, 8, 512)         2048      \n",
      "_________________________________________________________________\n",
      "conv_pw_8_relu (ReLU)        (None, 8, 8, 512)         0         \n",
      "_________________________________________________________________\n",
      "conv_dw_9 (DepthwiseConv2D)  (None, 8, 8, 512)         4608      \n",
      "_________________________________________________________________\n",
      "conv_dw_9_bn (BatchNormaliza (None, 8, 8, 512)         2048      \n",
      "_________________________________________________________________\n",
      "conv_dw_9_relu (ReLU)        (None, 8, 8, 512)         0         \n",
      "_________________________________________________________________\n",
      "conv_pw_9 (Conv2D)           (None, 8, 8, 512)         262144    \n",
      "_________________________________________________________________\n",
      "conv_pw_9_bn (BatchNormaliza (None, 8, 8, 512)         2048      \n",
      "_________________________________________________________________\n",
      "conv_pw_9_relu (ReLU)        (None, 8, 8, 512)         0         \n",
      "_________________________________________________________________\n",
      "conv_dw_10 (DepthwiseConv2D) (None, 8, 8, 512)         4608      \n",
      "_________________________________________________________________\n",
      "conv_dw_10_bn (BatchNormaliz (None, 8, 8, 512)         2048      \n",
      "_________________________________________________________________\n",
      "conv_dw_10_relu (ReLU)       (None, 8, 8, 512)         0         \n",
      "_________________________________________________________________\n",
      "conv_pw_10 (Conv2D)          (None, 8, 8, 512)         262144    \n",
      "_________________________________________________________________\n",
      "conv_pw_10_bn (BatchNormaliz (None, 8, 8, 512)         2048      \n",
      "_________________________________________________________________\n",
      "conv_pw_10_relu (ReLU)       (None, 8, 8, 512)         0         \n",
      "_________________________________________________________________\n",
      "conv_dw_11 (DepthwiseConv2D) (None, 8, 8, 512)         4608      \n",
      "_________________________________________________________________\n",
      "conv_dw_11_bn (BatchNormaliz (None, 8, 8, 512)         2048      \n",
      "_________________________________________________________________\n",
      "conv_dw_11_relu (ReLU)       (None, 8, 8, 512)         0         \n",
      "_________________________________________________________________\n",
      "conv_pw_11 (Conv2D)          (None, 8, 8, 512)         262144    \n",
      "_________________________________________________________________\n",
      "conv_pw_11_bn (BatchNormaliz (None, 8, 8, 512)         2048      \n",
      "_________________________________________________________________\n",
      "conv_pw_11_relu (ReLU)       (None, 8, 8, 512)         0         \n",
      "_________________________________________________________________\n",
      "conv_pad_12 (ZeroPadding2D)  (None, 9, 9, 512)         0         \n",
      "_________________________________________________________________\n",
      "conv_dw_12 (DepthwiseConv2D) (None, 4, 4, 512)         4608      \n",
      "_________________________________________________________________\n",
      "conv_dw_12_bn (BatchNormaliz (None, 4, 4, 512)         2048      \n",
      "_________________________________________________________________\n",
      "conv_dw_12_relu (ReLU)       (None, 4, 4, 512)         0         \n",
      "_________________________________________________________________\n",
      "conv_pw_12 (Conv2D)          (None, 4, 4, 1024)        524288    \n",
      "_________________________________________________________________\n",
      "conv_pw_12_bn (BatchNormaliz (None, 4, 4, 1024)        4096      \n",
      "_________________________________________________________________\n",
      "conv_pw_12_relu (ReLU)       (None, 4, 4, 1024)        0         \n",
      "_________________________________________________________________\n",
      "conv_dw_13 (DepthwiseConv2D) (None, 4, 4, 1024)        9216      \n",
      "_________________________________________________________________\n",
      "conv_dw_13_bn (BatchNormaliz (None, 4, 4, 1024)        4096      \n",
      "_________________________________________________________________\n",
      "conv_dw_13_relu (ReLU)       (None, 4, 4, 1024)        0         \n",
      "_________________________________________________________________\n",
      "conv_pw_13 (Conv2D)          (None, 4, 4, 1024)        1048576   \n",
      "_________________________________________________________________\n",
      "conv_pw_13_bn (BatchNormaliz (None, 4, 4, 1024)        4096      \n",
      "_________________________________________________________________\n",
      "conv_pw_13_relu (ReLU)       (None, 4, 4, 1024)        0         \n",
      "_________________________________________________________________\n",
      "global_average_pooling2d_2 ( (None, 1024)              0         \n",
      "_________________________________________________________________\n",
      "reshape_1 (Reshape)          (None, 1, 1, 1024)        0         \n",
      "_________________________________________________________________\n",
      "dropout (Dropout)            (None, 1, 1, 1024)        0         \n",
      "_________________________________________________________________\n",
      "conv_preds (Conv2D)          (None, 1, 1, 340)         348500    \n",
      "_________________________________________________________________\n",
      "act_softmax (Activation)     (None, 1, 1, 340)         0         \n",
      "_________________________________________________________________\n",
      "reshape_2 (Reshape)          (None, 340)               0         \n",
      "=================================================================\n",
      "Total params: 3,576,788\n",
      "Trainable params: 3,554,900\n",
      "Non-trainable params: 21,888\n",
      "_________________________________________________________________\n",
      "None\n"
     ]
    }
   ],
   "source": [
    "# MobileNet(input_shape=None, alpha=1.0, depth_multiplier=1,\n",
    "#           dropout=1e-3, include_top=True, weights='imagenet',\n",
    "#           input_tensor=None, pooling=None, classes=1000)\n",
    "\n",
    "base_model = MobileNet(input_shape=(size, size, 1), alpha=1.,\n",
    "                  weights=None, dropout=0.2, classes=NCATS)\n",
    "# base_model.load_weights(\"mobilenet40epochs.h5\")\n",
    "# base_model.trainable = False\n",
    "# base_model = MobileNet(input_shape=(size, size,3), alpha=1., weights='imagenet', include_top = False)\n",
    "# base_model.load_weights(\"mobilenet40epochs.h5\")\n",
    "\n",
    "base_model.compile(optimizer=Adam(lr=0.002), loss='categorical_crossentropy',\n",
    "              metrics=[categorical_crossentropy, categorical_accuracy, top_3_accuracy])\n",
    "base_model.load_weights(\"MobileNet.01-1.72.hdf5\")\n",
    "print(base_model.summary())"
   ]
  },
  {
   "cell_type": "code",
   "execution_count": 16,
   "metadata": {
    "_uuid": "da72d70fc1781e80427d45a80c07b3571dda0b36"
   },
   "outputs": [
    {
     "name": "stdout",
     "output_type": "stream",
     "text": [
      "Epoch 1/10\n",
      "2000/2000 [==============================] - 655s 328ms/step - loss: 1.0999 - categorical_crossentropy: 1.0999 - categorical_accuracy: 0.6893 - top_3_accuracy: 0.8783 - val_loss: 1.4191 - val_categorical_crossentropy: 1.4191 - val_categorical_accuracy: 0.6619 - val_top_3_accuracy: 0.8393\n",
      "Epoch 2/10\n",
      "2000/2000 [==============================] - 619s 309ms/step - loss: 0.9468 - categorical_crossentropy: 0.9468 - categorical_accuracy: 0.7277 - top_3_accuracy: 0.9024 - val_loss: 1.3660 - val_categorical_crossentropy: 1.3660 - val_categorical_accuracy: 0.6740 - val_top_3_accuracy: 0.8501\n",
      "Epoch 3/10\n",
      "2000/2000 [==============================] - 625s 312ms/step - loss: 0.8667 - categorical_crossentropy: 0.8667 - categorical_accuracy: 0.7480 - top_3_accuracy: 0.9153 - val_loss: 1.2454 - val_categorical_crossentropy: 1.2454 - val_categorical_accuracy: 0.6966 - val_top_3_accuracy: 0.8658\n",
      "Epoch 4/10\n",
      "2000/2000 [==============================] - 623s 311ms/step - loss: 0.8256 - categorical_crossentropy: 0.8256 - categorical_accuracy: 0.7587 - top_3_accuracy: 0.9204 - val_loss: 1.1896 - val_categorical_crossentropy: 1.1896 - val_categorical_accuracy: 0.7135 - val_top_3_accuracy: 0.8755\n",
      "Epoch 5/10\n",
      "2000/2000 [==============================] - 623s 312ms/step - loss: 0.7913 - categorical_crossentropy: 0.7913 - categorical_accuracy: 0.7668 - top_3_accuracy: 0.9255 - val_loss: 1.1683 - val_categorical_crossentropy: 1.1683 - val_categorical_accuracy: 0.7223 - val_top_3_accuracy: 0.8805\n",
      "Epoch 6/10\n",
      "2000/2000 [==============================] - 624s 312ms/step - loss: 0.7644 - categorical_crossentropy: 0.7644 - categorical_accuracy: 0.7744 - top_3_accuracy: 0.9295 - val_loss: 1.1071 - val_categorical_crossentropy: 1.1071 - val_categorical_accuracy: 0.7335 - val_top_3_accuracy: 0.8881\n",
      "Epoch 7/10\n",
      "2000/2000 [==============================] - 624s 312ms/step - loss: 0.7484 - categorical_crossentropy: 0.7484 - categorical_accuracy: 0.7791 - top_3_accuracy: 0.9314 - val_loss: 1.1198 - val_categorical_crossentropy: 1.1198 - val_categorical_accuracy: 0.7323 - val_top_3_accuracy: 0.8879\n",
      "Epoch 8/10\n",
      "2000/2000 [==============================] - 622s 311ms/step - loss: 0.7308 - categorical_crossentropy: 0.7308 - categorical_accuracy: 0.7829 - top_3_accuracy: 0.9336 - val_loss: 1.1096 - val_categorical_crossentropy: 1.1096 - val_categorical_accuracy: 0.7353 - val_top_3_accuracy: 0.8875\n",
      "Epoch 9/10\n",
      "2000/2000 [==============================] - 622s 311ms/step - loss: 0.7171 - categorical_crossentropy: 0.7171 - categorical_accuracy: 0.7874 - top_3_accuracy: 0.9358 - val_loss: 1.0522 - val_categorical_crossentropy: 1.0522 - val_categorical_accuracy: 0.7479 - val_top_3_accuracy: 0.8948\n",
      "Epoch 10/10\n",
      "2000/2000 [==============================] - 622s 311ms/step - loss: 0.7079 - categorical_crossentropy: 0.7079 - categorical_accuracy: 0.7887 - top_3_accuracy: 0.9371 - val_loss: 1.0405 - val_categorical_crossentropy: 1.0405 - val_categorical_accuracy: 0.7507 - val_top_3_accuracy: 0.8948\n"
     ]
    }
   ],
   "source": [
    "callbacks = [\n",
    "    ReduceLROnPlateau(monitor='val_categorical_accuracy', factor=0.5, patience=5,\n",
    "                      min_delta=0.005, mode='max', cooldown=3, verbose=1),\n",
    "    ModelCheckpoint(\"MobileNet.{epoch:02d}-{val_loss:.2f}.hdf5\", monitor='val_categorical_accuracy',\n",
    "                    save_weights_only=True, mode='auto', period=1)\n",
    "]\n",
    "\n",
    "hists = []\n",
    "hist = base_model.fit_generator(\n",
    "    train_datagen, steps_per_epoch=STEPS, epochs=EPOCHS, verbose=1,\n",
    "    validation_data=(x_valid, y_valid),\n",
    "    callbacks = callbacks\n",
    ")\n",
    "hists.append(hist)"
   ]
  },
  {
   "cell_type": "code",
   "execution_count": 17,
   "metadata": {},
   "outputs": [],
   "source": [
    "def print_history(hists):\n",
    "    tmp = hists[-1].history\n",
    "    print(\"\\t\".join([\"%.3f\"%tmp[key][-1]\n",
    "        for key in ('loss', 'val_loss', 'val_categorical_accuracy', 'val_top_3_accuracy')]))\n",
    "    print()"
   ]
  },
  {
   "cell_type": "code",
   "execution_count": 18,
   "metadata": {
    "_kg_hide-input": true,
    "_kg_hide-output": true,
    "_uuid": "ada344bf3454765298e7b7ed7861c82bca2d2084"
   },
   "outputs": [
    {
     "name": "stdout",
     "output_type": "stream",
     "text": [
      "Epoch 1/10\n",
      "2000/2000 [==============================] - 622s 311ms/step - loss: 0.6936 - categorical_crossentropy: 0.6936 - categorical_accuracy: 0.7930 - top_3_accuracy: 0.9386 - val_loss: 1.0461 - val_categorical_crossentropy: 1.0461 - val_categorical_accuracy: 0.7480 - val_top_3_accuracy: 0.8966\n",
      "Epoch 2/10\n",
      "2000/2000 [==============================] - 628s 314ms/step - loss: 0.6866 - categorical_crossentropy: 0.6866 - categorical_accuracy: 0.7949 - top_3_accuracy: 0.9396 - val_loss: 1.0232 - val_categorical_crossentropy: 1.0232 - val_categorical_accuracy: 0.7593 - val_top_3_accuracy: 0.8999\n",
      "Epoch 3/10\n",
      "2000/2000 [==============================] - 626s 313ms/step - loss: 0.6740 - categorical_crossentropy: 0.6740 - categorical_accuracy: 0.7981 - top_3_accuracy: 0.9415 - val_loss: 1.0174 - val_categorical_crossentropy: 1.0174 - val_categorical_accuracy: 0.7568 - val_top_3_accuracy: 0.9006\n",
      "Epoch 4/10\n",
      "2000/2000 [==============================] - 623s 312ms/step - loss: 0.6666 - categorical_crossentropy: 0.6666 - categorical_accuracy: 0.8007 - top_3_accuracy: 0.9424 - val_loss: 1.0181 - val_categorical_crossentropy: 1.0181 - val_categorical_accuracy: 0.7610 - val_top_3_accuracy: 0.9003\n",
      "Epoch 5/10\n",
      "2000/2000 [==============================] - 626s 313ms/step - loss: 0.6612 - categorical_crossentropy: 0.6612 - categorical_accuracy: 0.8014 - top_3_accuracy: 0.9433 - val_loss: 1.0055 - val_categorical_crossentropy: 1.0055 - val_categorical_accuracy: 0.7609 - val_top_3_accuracy: 0.9021\n",
      "Epoch 6/10\n",
      "2000/2000 [==============================] - 613s 306ms/step - loss: 0.6562 - categorical_crossentropy: 0.6562 - categorical_accuracy: 0.8028 - top_3_accuracy: 0.9436 - val_loss: 0.9904 - val_categorical_crossentropy: 0.9904 - val_categorical_accuracy: 0.7646 - val_top_3_accuracy: 0.9038\n",
      "Epoch 7/10\n",
      "2000/2000 [==============================] - 623s 312ms/step - loss: 0.6498 - categorical_crossentropy: 0.6498 - categorical_accuracy: 0.8054 - top_3_accuracy: 0.9446 - val_loss: 0.9890 - val_categorical_crossentropy: 0.9890 - val_categorical_accuracy: 0.7652 - val_top_3_accuracy: 0.9041\n",
      "Epoch 8/10\n",
      "2000/2000 [==============================] - 624s 312ms/step - loss: 0.6453 - categorical_crossentropy: 0.6453 - categorical_accuracy: 0.8057 - top_3_accuracy: 0.9453 - val_loss: 1.0033 - val_categorical_crossentropy: 1.0033 - val_categorical_accuracy: 0.7628 - val_top_3_accuracy: 0.9027\n",
      "Epoch 9/10\n",
      "2000/2000 [==============================] - 623s 312ms/step - loss: 0.6295 - categorical_crossentropy: 0.6295 - categorical_accuracy: 0.8102 - top_3_accuracy: 0.9471 - val_loss: 1.0000 - val_categorical_crossentropy: 1.0000 - val_categorical_accuracy: 0.7664 - val_top_3_accuracy: 0.9044\n",
      "Epoch 10/10\n",
      "2000/2000 [==============================] - 623s 312ms/step - loss: 0.6149 - categorical_crossentropy: 0.6149 - categorical_accuracy: 0.8140 - top_3_accuracy: 0.9487 - val_loss: 0.9901 - val_categorical_crossentropy: 0.9901 - val_categorical_accuracy: 0.7681 - val_top_3_accuracy: 0.9064\n",
      "0.615\t0.990\t0.768\t0.906\n",
      "\n"
     ]
    }
   ],
   "source": [
    "hist = base_model.fit_generator(\n",
    "    train_datagen, steps_per_epoch=STEPS, epochs=EPOCHS, verbose=1,\n",
    "    validation_data=(x_valid, y_valid),\n",
    "    callbacks = callbacks\n",
    ")\n",
    "hists.append(hist)\n",
    "print_history(hists)"
   ]
  },
  {
   "cell_type": "code",
   "execution_count": 19,
   "metadata": {
    "_kg_hide-input": true,
    "_kg_hide-output": true,
    "_uuid": "4a3a0cfef0d984d5b02872617e0eb2ad8a791964",
    "scrolled": false
   },
   "outputs": [
    {
     "name": "stdout",
     "output_type": "stream",
     "text": [
      "Epoch 1/10\n",
      "2000/2000 [==============================] - 628s 314ms/step - loss: 0.6159 - categorical_crossentropy: 0.6159 - categorical_accuracy: 0.8134 - top_3_accuracy: 0.9489 - val_loss: 0.9718 - val_categorical_crossentropy: 0.9718 - val_categorical_accuracy: 0.7718 - val_top_3_accuracy: 0.9085\n",
      "Epoch 2/10\n",
      "2000/2000 [==============================] - 608s 304ms/step - loss: 0.6089 - categorical_crossentropy: 0.6089 - categorical_accuracy: 0.8149 - top_3_accuracy: 0.9498 - val_loss: 0.9652 - val_categorical_crossentropy: 0.9652 - val_categorical_accuracy: 0.7727 - val_top_3_accuracy: 0.9097\n",
      "Epoch 3/10\n",
      "2000/2000 [==============================] - 607s 304ms/step - loss: 0.6097 - categorical_crossentropy: 0.6097 - categorical_accuracy: 0.8155 - top_3_accuracy: 0.9495 - val_loss: 0.9635 - val_categorical_crossentropy: 0.9635 - val_categorical_accuracy: 0.7719 - val_top_3_accuracy: 0.9079\n",
      "Epoch 4/10\n",
      "2000/2000 [==============================] - 611s 306ms/step - loss: 0.6057 - categorical_crossentropy: 0.6057 - categorical_accuracy: 0.8158 - top_3_accuracy: 0.9503 - val_loss: 0.9731 - val_categorical_crossentropy: 0.9731 - val_categorical_accuracy: 0.7704 - val_top_3_accuracy: 0.9074\n",
      "Epoch 5/10\n",
      "2000/2000 [==============================] - 607s 304ms/step - loss: 0.6029 - categorical_crossentropy: 0.6029 - categorical_accuracy: 0.8171 - top_3_accuracy: 0.9505 - val_loss: 0.9652 - val_categorical_crossentropy: 0.9652 - val_categorical_accuracy: 0.7687 - val_top_3_accuracy: 0.9076\n",
      "Epoch 6/10\n",
      "2000/2000 [==============================] - 607s 304ms/step - loss: 0.6004 - categorical_crossentropy: 0.6004 - categorical_accuracy: 0.8177 - top_3_accuracy: 0.9507 - val_loss: 0.9595 - val_categorical_crossentropy: 0.9595 - val_categorical_accuracy: 0.7724 - val_top_3_accuracy: 0.9097\n",
      "\n",
      "Epoch 00006: ReduceLROnPlateau reducing learning rate to 0.0010000000474974513.\n",
      "Epoch 7/10\n",
      "2000/2000 [==============================] - 607s 304ms/step - loss: 0.5749 - categorical_crossentropy: 0.5749 - categorical_accuracy: 0.8242 - top_3_accuracy: 0.9541 - val_loss: 0.9099 - val_categorical_crossentropy: 0.9099 - val_categorical_accuracy: 0.7853 - val_top_3_accuracy: 0.9144\n",
      "Epoch 8/10\n",
      "2000/2000 [==============================] - 607s 303ms/step - loss: 0.5655 - categorical_crossentropy: 0.5655 - categorical_accuracy: 0.8280 - top_3_accuracy: 0.9548 - val_loss: 0.9124 - val_categorical_crossentropy: 0.9124 - val_categorical_accuracy: 0.7856 - val_top_3_accuracy: 0.9139\n",
      "Epoch 9/10\n",
      "2000/2000 [==============================] - 607s 304ms/step - loss: 0.5591 - categorical_crossentropy: 0.5591 - categorical_accuracy: 0.8292 - top_3_accuracy: 0.9557 - val_loss: 0.9062 - val_categorical_crossentropy: 0.9062 - val_categorical_accuracy: 0.7875 - val_top_3_accuracy: 0.9160\n",
      "Epoch 10/10\n",
      "2000/2000 [==============================] - 607s 304ms/step - loss: 0.5549 - categorical_crossentropy: 0.5549 - categorical_accuracy: 0.8300 - top_3_accuracy: 0.9560 - val_loss: 0.9002 - val_categorical_crossentropy: 0.9002 - val_categorical_accuracy: 0.7873 - val_top_3_accuracy: 0.9159\n",
      "0.555\t0.900\t0.787\t0.916\n",
      "\n"
     ]
    }
   ],
   "source": [
    "hist = base_model.fit_generator(\n",
    "    train_datagen, steps_per_epoch=STEPS, epochs=EPOCHS, verbose=1,\n",
    "    validation_data=(x_valid, y_valid),\n",
    "    callbacks = callbacks\n",
    ")\n",
    "hists.append(hist)\n",
    "print_history(hists)"
   ]
  },
  {
   "cell_type": "code",
   "execution_count": 20,
   "metadata": {},
   "outputs": [
    {
     "name": "stdout",
     "output_type": "stream",
     "text": [
      "Epoch 1/10\n",
      "2000/2000 [==============================] - 610s 305ms/step - loss: 0.5565 - categorical_crossentropy: 0.5565 - categorical_accuracy: 0.8305 - top_3_accuracy: 0.9559 - val_loss: 0.9054 - val_categorical_crossentropy: 0.9054 - val_categorical_accuracy: 0.7880 - val_top_3_accuracy: 0.9158\n",
      "Epoch 2/10\n",
      "2000/2000 [==============================] - 610s 305ms/step - loss: 0.5573 - categorical_crossentropy: 0.5573 - categorical_accuracy: 0.8297 - top_3_accuracy: 0.9555 - val_loss: 0.8955 - val_categorical_crossentropy: 0.8955 - val_categorical_accuracy: 0.7911 - val_top_3_accuracy: 0.9167\n",
      "Epoch 3/10\n",
      "2000/2000 [==============================] - 608s 304ms/step - loss: 0.5522 - categorical_crossentropy: 0.5522 - categorical_accuracy: 0.8308 - top_3_accuracy: 0.9567 - val_loss: 0.8964 - val_categorical_crossentropy: 0.8964 - val_categorical_accuracy: 0.7903 - val_top_3_accuracy: 0.9166\n",
      "Epoch 4/10\n",
      "2000/2000 [==============================] - 618s 309ms/step - loss: 0.5446 - categorical_crossentropy: 0.5446 - categorical_accuracy: 0.8327 - top_3_accuracy: 0.9573 - val_loss: 0.8872 - val_categorical_crossentropy: 0.8872 - val_categorical_accuracy: 0.7913 - val_top_3_accuracy: 0.9171\n",
      "Epoch 5/10\n",
      "2000/2000 [==============================] - 618s 309ms/step - loss: 0.5487 - categorical_crossentropy: 0.5487 - categorical_accuracy: 0.8323 - top_3_accuracy: 0.9566 - val_loss: 0.8876 - val_categorical_crossentropy: 0.8876 - val_categorical_accuracy: 0.7923 - val_top_3_accuracy: 0.9182\n",
      "Epoch 6/10\n",
      "2000/2000 [==============================] - 617s 309ms/step - loss: 0.5477 - categorical_crossentropy: 0.5477 - categorical_accuracy: 0.8322 - top_3_accuracy: 0.9568 - val_loss: 0.8922 - val_categorical_crossentropy: 0.8922 - val_categorical_accuracy: 0.7912 - val_top_3_accuracy: 0.9182\n",
      "\n",
      "Epoch 00006: ReduceLROnPlateau reducing learning rate to 0.0005000000237487257.\n",
      "Epoch 7/10\n",
      "2000/2000 [==============================] - 619s 309ms/step - loss: 0.5321 - categorical_crossentropy: 0.5321 - categorical_accuracy: 0.8372 - top_3_accuracy: 0.9585 - val_loss: 0.8762 - val_categorical_crossentropy: 0.8762 - val_categorical_accuracy: 0.7962 - val_top_3_accuracy: 0.9193\n",
      "Epoch 8/10\n",
      "2000/2000 [==============================] - 618s 309ms/step - loss: 0.5300 - categorical_crossentropy: 0.5300 - categorical_accuracy: 0.8379 - top_3_accuracy: 0.9591 - val_loss: 0.8695 - val_categorical_crossentropy: 0.8695 - val_categorical_accuracy: 0.7966 - val_top_3_accuracy: 0.9206\n",
      "Epoch 9/10\n",
      "2000/2000 [==============================] - 618s 309ms/step - loss: 0.5157 - categorical_crossentropy: 0.5157 - categorical_accuracy: 0.8411 - top_3_accuracy: 0.9604 - val_loss: 0.8741 - val_categorical_crossentropy: 0.8741 - val_categorical_accuracy: 0.7967 - val_top_3_accuracy: 0.9200\n",
      "Epoch 10/10\n",
      "2000/2000 [==============================] - 618s 309ms/step - loss: 0.4947 - categorical_crossentropy: 0.4947 - categorical_accuracy: 0.8467 - top_3_accuracy: 0.9629 - val_loss: 0.8793 - val_categorical_crossentropy: 0.8793 - val_categorical_accuracy: 0.7962 - val_top_3_accuracy: 0.9204\n",
      "0.495\t0.879\t0.796\t0.920\n",
      "\n"
     ]
    }
   ],
   "source": [
    "hist = base_model.fit_generator(\n",
    "    train_datagen, steps_per_epoch=STEPS, epochs=EPOCHS, verbose=1,\n",
    "    validation_data=(x_valid, y_valid),\n",
    "    callbacks = callbacks\n",
    ")\n",
    "hists.append(hist)\n",
    "print_history(hists)"
   ]
  },
  {
   "cell_type": "code",
   "execution_count": 27,
   "metadata": {},
   "outputs": [
    {
     "name": "stdout",
     "output_type": "stream",
     "text": [
      "Epoch 1/10\n",
      "2000/2000 [==============================] - 946s 473ms/step - loss: 0.4921 - categorical_crossentropy: 0.4921 - categorical_accuracy: 0.8474 - top_3_accuracy: 0.9634 - val_loss: 0.8785 - val_categorical_crossentropy: 0.8785 - val_categorical_accuracy: 0.7985 - val_top_3_accuracy: 0.9216\n",
      "Epoch 2/10\n",
      "2000/2000 [==============================] - 940s 470ms/step - loss: 0.4894 - categorical_crossentropy: 0.4894 - categorical_accuracy: 0.8480 - top_3_accuracy: 0.9637 - val_loss: 0.8726 - val_categorical_crossentropy: 0.8726 - val_categorical_accuracy: 0.7970 - val_top_3_accuracy: 0.9215\n",
      "Epoch 3/10\n",
      "2000/2000 [==============================] - 937s 468ms/step - loss: 0.4902 - categorical_crossentropy: 0.4902 - categorical_accuracy: 0.8477 - top_3_accuracy: 0.9635 - val_loss: 0.8715 - val_categorical_crossentropy: 0.8715 - val_categorical_accuracy: 0.7972 - val_top_3_accuracy: 0.9213\n",
      "Epoch 4/10\n",
      "2000/2000 [==============================] - 940s 470ms/step - loss: 0.4977 - categorical_crossentropy: 0.4977 - categorical_accuracy: 0.8461 - top_3_accuracy: 0.9626 - val_loss: 0.8703 - val_categorical_crossentropy: 0.8703 - val_categorical_accuracy: 0.7993 - val_top_3_accuracy: 0.9215\n",
      "Epoch 5/10\n",
      "2000/2000 [==============================] - 937s 468ms/step - loss: 0.4999 - categorical_crossentropy: 0.4999 - categorical_accuracy: 0.8453 - top_3_accuracy: 0.9625 - val_loss: 0.8656 - val_categorical_crossentropy: 0.8656 - val_categorical_accuracy: 0.7995 - val_top_3_accuracy: 0.9215\n",
      "Epoch 6/10\n",
      "2000/2000 [==============================] - 937s 468ms/step - loss: 0.4982 - categorical_crossentropy: 0.4982 - categorical_accuracy: 0.8460 - top_3_accuracy: 0.9626 - val_loss: 0.8657 - val_categorical_crossentropy: 0.8657 - val_categorical_accuracy: 0.8001 - val_top_3_accuracy: 0.9212\n",
      "\n",
      "Epoch 00006: ReduceLROnPlateau reducing learning rate to 0.0002500000118743628.\n",
      "Epoch 7/10\n",
      "2000/2000 [==============================] - 938s 469ms/step - loss: 0.4912 - categorical_crossentropy: 0.4912 - categorical_accuracy: 0.8481 - top_3_accuracy: 0.9636 - val_loss: 0.8649 - val_categorical_crossentropy: 0.8649 - val_categorical_accuracy: 0.8018 - val_top_3_accuracy: 0.9222\n",
      "Epoch 8/10\n",
      "2000/2000 [==============================] - 936s 468ms/step - loss: 0.4890 - categorical_crossentropy: 0.4890 - categorical_accuracy: 0.8489 - top_3_accuracy: 0.9640 - val_loss: 0.8614 - val_categorical_crossentropy: 0.8614 - val_categorical_accuracy: 0.8006 - val_top_3_accuracy: 0.9224\n",
      "Epoch 9/10\n",
      "2000/2000 [==============================] - 938s 469ms/step - loss: 0.4870 - categorical_crossentropy: 0.4870 - categorical_accuracy: 0.8486 - top_3_accuracy: 0.9636 - val_loss: 0.8607 - val_categorical_crossentropy: 0.8607 - val_categorical_accuracy: 0.8016 - val_top_3_accuracy: 0.9223\n",
      "Epoch 10/10\n",
      "2000/2000 [==============================] - 938s 469ms/step - loss: 0.4873 - categorical_crossentropy: 0.4873 - categorical_accuracy: 0.8490 - top_3_accuracy: 0.9640 - val_loss: 0.8588 - val_categorical_crossentropy: 0.8588 - val_categorical_accuracy: 0.8010 - val_top_3_accuracy: 0.9228\n",
      "0.487\t0.859\t0.801\t0.923\n",
      "\n"
     ]
    }
   ],
   "source": [
    "hist = base_model.fit_generator(\n",
    "    train_datagen, steps_per_epoch=STEPS, epochs=EPOCHS, verbose=1,\n",
    "    validation_data=(x_valid, y_valid),\n",
    "    callbacks = callbacks\n",
    ")\n",
    "hists.append(hist)\n",
    "print_history(hists)"
   ]
  },
  {
   "cell_type": "code",
   "execution_count": null,
   "metadata": {
    "_uuid": "05767778d356bc63b7cded355159fd4082eee1a5",
    "scrolled": false
   },
   "outputs": [],
   "source": [
    "hist_df = pd.concat([pd.DataFrame(hist.history) for hist in hists], sort=True)\n",
    "hist_df.index = np.arange(1, len(hist_df)+1)\n",
    "fig, axs = plt.subplots(nrows=2, sharex=True, figsize=(16, 10))\n",
    "axs[0].plot(hist_df.val_categorical_accuracy, lw=5, label='Validation Accuracy')\n",
    "axs[0].plot(hist_df.categorical_accuracy, lw=5, label='Training Accuracy')\n",
    "axs[0].set_ylabel('Accuracy')\n",
    "axs[0].set_xlabel('Epoch')\n",
    "axs[0].grid()\n",
    "axs[0].legend(loc=0)\n",
    "axs[1].plot(hist_df.val_categorical_crossentropy, lw=5, label='Validation MLogLoss')\n",
    "axs[1].plot(hist_df.categorical_crossentropy, lw=5, label='Training MLogLoss')\n",
    "axs[1].set_ylabel('MLogLoss')\n",
    "axs[1].set_xlabel('Epoch')\n",
    "axs[1].grid()\n",
    "axs[1].legend(loc=0)\n",
    "fig.savefig('hist.png', dpi=300)\n",
    "plt.show();"
   ]
  },
  {
   "cell_type": "code",
   "execution_count": 41,
   "metadata": {},
   "outputs": [],
   "source": [
    "base_model.load_weights(filepath=\"MobileNet.10-0.86.hdf5\")"
   ]
  },
  {
   "cell_type": "code",
   "execution_count": 50,
   "metadata": {
    "_uuid": "8c1927f22d3c45cba0bdee7d6f4b6c858d82d614"
   },
   "outputs": [
    {
     "name": "stdout",
     "output_type": "stream",
     "text": [
      "60000/60000 [==============================] - 17s 288us/step\n",
      "Map3: 0.854\n"
     ]
    }
   ],
   "source": [
    "valid_predictions = base_model.predict(x_valid, batch_size=128, verbose=1)\n",
    "map3 = mapk(valid_df[['y']].values, preds2catids(valid_predictions).values)\n",
    "print('Map3: {:.3f}'.format(map3))"
   ]
  },
  {
   "cell_type": "code",
   "execution_count": 48,
   "metadata": {},
   "outputs": [
    {
     "data": {
      "text/plain": [
       "array([[143, 197, 152],\n",
       "       [ 28, 186, 315],\n",
       "       [298, 112,  98],\n",
       "       ...,\n",
       "       [ 15,  18, 269],\n",
       "       [ 40, 311, 293],\n",
       "       [105,  13,  26]], dtype=int64)"
      ]
     },
     "execution_count": 48,
     "metadata": {},
     "output_type": "execute_result"
    }
   ],
   "source": [
    "preds2catids(valid_predictions).values"
   ]
  },
  {
   "cell_type": "markdown",
   "metadata": {
    "_uuid": "be4577a9ba00611697eea8f241a42c504981e86f"
   },
   "source": [
    "## Create Submission"
   ]
  },
  {
   "cell_type": "code",
   "execution_count": 30,
   "metadata": {
    "_uuid": "a7d14348150baf753e90cf2719b9f31dd564f6a2"
   },
   "outputs": [
    {
     "data": {
      "text/html": [
       "<div>\n",
       "<style scoped>\n",
       "    .dataframe tbody tr th:only-of-type {\n",
       "        vertical-align: middle;\n",
       "    }\n",
       "\n",
       "    .dataframe tbody tr th {\n",
       "        vertical-align: top;\n",
       "    }\n",
       "\n",
       "    .dataframe thead th {\n",
       "        text-align: right;\n",
       "    }\n",
       "</style>\n",
       "<table border=\"1\" class=\"dataframe\">\n",
       "  <thead>\n",
       "    <tr style=\"text-align: right;\">\n",
       "      <th></th>\n",
       "      <th>key_id</th>\n",
       "      <th>countrycode</th>\n",
       "      <th>drawing</th>\n",
       "    </tr>\n",
       "  </thead>\n",
       "  <tbody>\n",
       "    <tr>\n",
       "      <th>0</th>\n",
       "      <td>9000003627287624</td>\n",
       "      <td>DE</td>\n",
       "      <td>[[[17, 18, 20, 25, 137, 174, 242, 249, 251, 25...</td>\n",
       "    </tr>\n",
       "    <tr>\n",
       "      <th>1</th>\n",
       "      <td>9000010688666847</td>\n",
       "      <td>UA</td>\n",
       "      <td>[[[174, 145, 106, 38, 11, 4, 4, 15, 29, 78, 16...</td>\n",
       "    </tr>\n",
       "    <tr>\n",
       "      <th>2</th>\n",
       "      <td>9000023642890129</td>\n",
       "      <td>BG</td>\n",
       "      <td>[[[0, 12, 14, 17, 16, 24, 55, 57, 60, 79, 82, ...</td>\n",
       "    </tr>\n",
       "    <tr>\n",
       "      <th>3</th>\n",
       "      <td>9000038588854897</td>\n",
       "      <td>US</td>\n",
       "      <td>[[[0, 9, 23, 40, 54, 60, 81, 105, 123, 167, 20...</td>\n",
       "    </tr>\n",
       "    <tr>\n",
       "      <th>4</th>\n",
       "      <td>9000052667981386</td>\n",
       "      <td>AR</td>\n",
       "      <td>[[[87, 82, 71, 63, 66, 92, 96, 95], [220, 218,...</td>\n",
       "    </tr>\n",
       "  </tbody>\n",
       "</table>\n",
       "</div>"
      ],
      "text/plain": [
       "             key_id countrycode  \\\n",
       "0  9000003627287624          DE   \n",
       "1  9000010688666847          UA   \n",
       "2  9000023642890129          BG   \n",
       "3  9000038588854897          US   \n",
       "4  9000052667981386          AR   \n",
       "\n",
       "                                             drawing  \n",
       "0  [[[17, 18, 20, 25, 137, 174, 242, 249, 251, 25...  \n",
       "1  [[[174, 145, 106, 38, 11, 4, 4, 15, 29, 78, 16...  \n",
       "2  [[[0, 12, 14, 17, 16, 24, 55, 57, 60, 79, 82, ...  \n",
       "3  [[[0, 9, 23, 40, 54, 60, 81, 105, 123, 167, 20...  \n",
       "4  [[[87, 82, 71, 63, 66, 92, 96, 95], [220, 218,...  "
      ]
     },
     "execution_count": 30,
     "metadata": {},
     "output_type": "execute_result"
    },
    {
     "name": "stdout",
     "output_type": "stream",
     "text": [
      "(112199, 4) (112199, 128, 128, 1)\n",
      "Test array memory 6.85 GB\n"
     ]
    }
   ],
   "source": [
    "test = pd.read_csv(os.path.join(INPUT_DIR, 'test_simplified.csv'))\n",
    "test.head()\n",
    "x_test = df_to_image_array_xd(test, size)\n",
    "print(test.shape, x_test.shape)\n",
    "print('Test array memory {:.2f} GB'.format(x_test.nbytes / 1024.**3 ))"
   ]
  },
  {
   "cell_type": "code",
   "execution_count": 31,
   "metadata": {
    "_uuid": "608b02f5c7909ae62becbe5c931b7264171296e8"
   },
   "outputs": [
    {
     "name": "stdout",
     "output_type": "stream",
     "text": [
      "112199/112199 [==============================] - 34s 306us/step\n"
     ]
    },
    {
     "data": {
      "text/html": [
       "<div>\n",
       "<style scoped>\n",
       "    .dataframe tbody tr th:only-of-type {\n",
       "        vertical-align: middle;\n",
       "    }\n",
       "\n",
       "    .dataframe tbody tr th {\n",
       "        vertical-align: top;\n",
       "    }\n",
       "\n",
       "    .dataframe thead th {\n",
       "        text-align: right;\n",
       "    }\n",
       "</style>\n",
       "<table border=\"1\" class=\"dataframe\">\n",
       "  <thead>\n",
       "    <tr style=\"text-align: right;\">\n",
       "      <th></th>\n",
       "      <th>a</th>\n",
       "      <th>b</th>\n",
       "      <th>c</th>\n",
       "    </tr>\n",
       "  </thead>\n",
       "  <tbody>\n",
       "    <tr>\n",
       "      <th>0</th>\n",
       "      <td>234</td>\n",
       "      <td>281</td>\n",
       "      <td>266</td>\n",
       "    </tr>\n",
       "    <tr>\n",
       "      <th>1</th>\n",
       "      <td>144</td>\n",
       "      <td>36</td>\n",
       "      <td>226</td>\n",
       "    </tr>\n",
       "    <tr>\n",
       "      <th>2</th>\n",
       "      <td>305</td>\n",
       "      <td>62</td>\n",
       "      <td>53</td>\n",
       "    </tr>\n",
       "    <tr>\n",
       "      <th>3</th>\n",
       "      <td>187</td>\n",
       "      <td>303</td>\n",
       "      <td>111</td>\n",
       "    </tr>\n",
       "    <tr>\n",
       "      <th>4</th>\n",
       "      <td>56</td>\n",
       "      <td>113</td>\n",
       "      <td>84</td>\n",
       "    </tr>\n",
       "  </tbody>\n",
       "</table>\n",
       "</div>"
      ],
      "text/plain": [
       "     a    b    c\n",
       "0  234  281  266\n",
       "1  144   36  226\n",
       "2  305   62   53\n",
       "3  187  303  111\n",
       "4   56  113   84"
      ]
     },
     "execution_count": 31,
     "metadata": {},
     "output_type": "execute_result"
    },
    {
     "data": {
      "text/plain": [
       "(112199, 3)"
      ]
     },
     "execution_count": 31,
     "metadata": {},
     "output_type": "execute_result"
    },
    {
     "data": {
      "text/html": [
       "<div>\n",
       "<style scoped>\n",
       "    .dataframe tbody tr th:only-of-type {\n",
       "        vertical-align: middle;\n",
       "    }\n",
       "\n",
       "    .dataframe tbody tr th {\n",
       "        vertical-align: top;\n",
       "    }\n",
       "\n",
       "    .dataframe thead th {\n",
       "        text-align: right;\n",
       "    }\n",
       "</style>\n",
       "<table border=\"1\" class=\"dataframe\">\n",
       "  <thead>\n",
       "    <tr style=\"text-align: right;\">\n",
       "      <th></th>\n",
       "      <th>a</th>\n",
       "      <th>b</th>\n",
       "      <th>c</th>\n",
       "    </tr>\n",
       "  </thead>\n",
       "  <tbody>\n",
       "    <tr>\n",
       "      <th>0</th>\n",
       "      <td>radio</td>\n",
       "      <td>stereo</td>\n",
       "      <td>snorkel</td>\n",
       "    </tr>\n",
       "    <tr>\n",
       "      <th>1</th>\n",
       "      <td>hockey_puck</td>\n",
       "      <td>bottlecap</td>\n",
       "      <td>pool</td>\n",
       "    </tr>\n",
       "    <tr>\n",
       "      <th>2</th>\n",
       "      <td>The_Great_Wall_of_China</td>\n",
       "      <td>castle</td>\n",
       "      <td>camel</td>\n",
       "    </tr>\n",
       "    <tr>\n",
       "      <th>3</th>\n",
       "      <td>mountain</td>\n",
       "      <td>tent</td>\n",
       "      <td>finger</td>\n",
       "    </tr>\n",
       "    <tr>\n",
       "      <th>4</th>\n",
       "      <td>campfire</td>\n",
       "      <td>fireplace</td>\n",
       "      <td>crown</td>\n",
       "    </tr>\n",
       "  </tbody>\n",
       "</table>\n",
       "</div>"
      ],
      "text/plain": [
       "                         a          b        c\n",
       "0                    radio     stereo  snorkel\n",
       "1              hockey_puck  bottlecap     pool\n",
       "2  The_Great_Wall_of_China     castle    camel\n",
       "3                 mountain       tent   finger\n",
       "4                 campfire  fireplace    crown"
      ]
     },
     "execution_count": 31,
     "metadata": {},
     "output_type": "execute_result"
    },
    {
     "data": {
      "text/plain": [
       "(112199, 3)"
      ]
     },
     "execution_count": 31,
     "metadata": {},
     "output_type": "execute_result"
    }
   ],
   "source": [
    "test_predictions = base_model.predict(x_test, batch_size=128, verbose=1)\n",
    "\n",
    "top3 = preds2catids(test_predictions)\n",
    "top3.head()\n",
    "top3.shape\n",
    "\n",
    "cats = list_all_categories()\n",
    "id2cat = {k: cat.replace(' ', '_') for k, cat in enumerate(cats)}\n",
    "top3cats = top3.replace(id2cat)\n",
    "top3cats.head()\n",
    "top3cats.shape"
   ]
  },
  {
   "cell_type": "code",
   "execution_count": 32,
   "metadata": {
    "_uuid": "52e0f9c44f2a9a38fd1550ffb9c07fb7ea22b17d"
   },
   "outputs": [
    {
     "data": {
      "text/html": [
       "<div>\n",
       "<style scoped>\n",
       "    .dataframe tbody tr th:only-of-type {\n",
       "        vertical-align: middle;\n",
       "    }\n",
       "\n",
       "    .dataframe tbody tr th {\n",
       "        vertical-align: top;\n",
       "    }\n",
       "\n",
       "    .dataframe thead th {\n",
       "        text-align: right;\n",
       "    }\n",
       "</style>\n",
       "<table border=\"1\" class=\"dataframe\">\n",
       "  <thead>\n",
       "    <tr style=\"text-align: right;\">\n",
       "      <th></th>\n",
       "      <th>key_id</th>\n",
       "      <th>word</th>\n",
       "    </tr>\n",
       "  </thead>\n",
       "  <tbody>\n",
       "    <tr>\n",
       "      <th>0</th>\n",
       "      <td>9000003627287624</td>\n",
       "      <td>radio stereo snorkel</td>\n",
       "    </tr>\n",
       "    <tr>\n",
       "      <th>1</th>\n",
       "      <td>9000010688666847</td>\n",
       "      <td>hockey_puck bottlecap pool</td>\n",
       "    </tr>\n",
       "    <tr>\n",
       "      <th>2</th>\n",
       "      <td>9000023642890129</td>\n",
       "      <td>The_Great_Wall_of_China castle camel</td>\n",
       "    </tr>\n",
       "    <tr>\n",
       "      <th>3</th>\n",
       "      <td>9000038588854897</td>\n",
       "      <td>mountain tent finger</td>\n",
       "    </tr>\n",
       "    <tr>\n",
       "      <th>4</th>\n",
       "      <td>9000052667981386</td>\n",
       "      <td>campfire fireplace crown</td>\n",
       "    </tr>\n",
       "  </tbody>\n",
       "</table>\n",
       "</div>"
      ],
      "text/plain": [
       "             key_id                                  word\n",
       "0  9000003627287624                  radio stereo snorkel\n",
       "1  9000010688666847            hockey_puck bottlecap pool\n",
       "2  9000023642890129  The_Great_Wall_of_China castle camel\n",
       "3  9000038588854897                  mountain tent finger\n",
       "4  9000052667981386              campfire fireplace crown"
      ]
     },
     "execution_count": 32,
     "metadata": {},
     "output_type": "execute_result"
    },
    {
     "data": {
      "text/plain": [
       "(112199, 2)"
      ]
     },
     "execution_count": 32,
     "metadata": {},
     "output_type": "execute_result"
    }
   ],
   "source": [
    "test['word'] = top3cats['a'] + ' ' + top3cats['b'] + ' ' + top3cats['c']\n",
    "submission = test[['key_id', 'word']]\n",
    "submission.to_csv('gs_mn_submission_{}.csv'.format(int(map3 * 10**4)), index=False)\n",
    "submission.head()\n",
    "submission.shape"
   ]
  },
  {
   "cell_type": "code",
   "execution_count": 33,
   "metadata": {
    "_uuid": "b418f4c06c4e4453aa1b5ab16dde344eb8b735c5"
   },
   "outputs": [
    {
     "name": "stdout",
     "output_type": "stream",
     "text": [
      "Latest run 2018-11-30 10:47:52.475824.\n",
      "Total time 38241s\n"
     ]
    }
   ],
   "source": [
    "end = dt.datetime.now()\n",
    "print('Latest run {}.\\nTotal time {}s'.format(end, (end - start).seconds))"
   ]
  }
 ],
 "metadata": {
  "kernelspec": {
   "display_name": "TensorflowGPU",
   "language": "python",
   "name": "tf-gpu"
  },
  "language_info": {
   "codemirror_mode": {
    "name": "ipython",
    "version": 3
   },
   "file_extension": ".py",
   "mimetype": "text/x-python",
   "name": "python",
   "nbconvert_exporter": "python",
   "pygments_lexer": "ipython3",
   "version": "3.6.7"
  }
 },
 "nbformat": 4,
 "nbformat_minor": 1
}
