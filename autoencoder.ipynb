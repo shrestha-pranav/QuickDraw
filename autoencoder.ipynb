{
  "nbformat": 4,
  "nbformat_minor": 0,
  "metadata": {
    "colab": {
      "name": "autoencoder",
      "version": "0.3.2",
      "provenance": [],
      "collapsed_sections": []
    },
    "kernelspec": {
      "name": "python3",
      "display_name": "Python 3"
    },
    "accelerator": "GPU"
  },
  "cells": [
    {
      "metadata": {
        "id": "DLUVe7lkvl7Q",
        "colab_type": "code",
        "colab": {
          "base_uri": "https://localhost:8080/",
          "height": 34
        },
        "outputId": "bd5d8923-e290-44e3-f9e5-1400fc8c652b"
      },
      "cell_type": "code",
      "source": [
        "#@title Code: Import Dependencies {display-mode: \"form\"}\n",
        "\n",
        "# This code will be hidden when the notebook is loaded.\n",
        "\n",
        "!pip install dask[bag] --upgrade > /dev/null\n",
        "%matplotlib inline\n",
        "from IPython.core.interactiveshell import InteractiveShell\n",
        "InteractiveShell.ast_node_interactivity = \"all\"\n",
        "import os\n",
        "import ast\n",
        "import datetime as dt\n",
        "import matplotlib.pyplot as plt\n",
        "plt.rcParams['figure.figsize'] = [16, 10]\n",
        "plt.rcParams['font.size'] = 14\n",
        "import seaborn as sns\n",
        "import cv2\n",
        "import pandas as pd\n",
        "import numpy as np\n",
        "import tensorflow as tf\n",
        "import keras\n",
        "from keras.layers import Conv2D, MaxPooling2D\n",
        "from keras.layers import Dense, Dropout, Flatten, Activation, Input, MaxPooling2D, UpSampling2D\n",
        "from keras.models import Model\n",
        "from keras import backend as K\n",
        "from keras.metrics import categorical_accuracy, top_k_categorical_accuracy, categorical_crossentropy\n",
        "from keras.models import Sequential\n",
        "from keras.callbacks import EarlyStopping, ReduceLROnPlateau, ModelCheckpoint\n",
        "from keras.optimizers import Adam\n",
        "from keras.applications import MobileNet\n",
        "from keras.applications.mobilenet import preprocess_input\n",
        "from tqdm import tqdm\n",
        "from glob import glob\n",
        "from PIL import Image, ImageDraw, ImageOps\n",
        "from dask import bag\n",
        "start = dt.datetime.now()"
      ],
      "execution_count": 2,
      "outputs": [
        {
          "output_type": "stream",
          "text": [
            "Using TensorFlow backend.\n"
          ],
          "name": "stderr"
        }
      ]
    },
    {
      "metadata": {
        "id": "Hb4aPN-AvoFE",
        "colab_type": "code",
        "colab": {}
      },
      "cell_type": "code",
      "source": [
        "#@title Code: Retrieve Data from Google Drive {display-mode: \"form\"}\n",
        "\n",
        "# This code will be hidden when the notebook is loaded.\n",
        "\n",
        "!pip install -U -q PyDrive\n",
        "import os\n",
        "from pydrive.auth import GoogleAuth\n",
        "from pydrive.drive import GoogleDrive\n",
        "from google.colab import auth\n",
        "from oauth2client.client import GoogleCredentials\n",
        "\n",
        "auth.authenticate_user()\n",
        "gauth = GoogleAuth()\n",
        "gauth.credentials = GoogleCredentials.get_application_default()\n",
        "drive = GoogleDrive(gauth)\n",
        "\n",
        "def download_drive_dir(local_dir, folder_id, whitelist=[]):\n",
        "    \"\"\"\n",
        "    params:\n",
        "        local_dir: Colaboratory directory\n",
        "        folder_id: Google Drive folder ID\n",
        "    \"\"\"\n",
        "    local_download_path = os.path.expanduser(local_dir) \n",
        "    try:\n",
        "        os.makedirs(local_download_path)\n",
        "    except Exception as e:\n",
        "        print('Error creating path:', e)\n",
        "\n",
        "    file_list = drive.ListFile(\n",
        "        {'q': \"'{}' in parents\".format(folder_id)}).GetList()\n",
        "\n",
        "    for f in tqdm(file_list):\n",
        "        if whitelist and f['title'] in whitelist:\n",
        "            # print('title: %s, id: %s' % (f['title'], f['id']))\n",
        "            fname = os.path.join(local_download_path, f['title'])\n",
        "            # print('downloading to {}'.format(fname))\n",
        "            f_ = drive.CreateFile({'id': f['id']})\n",
        "            f_.GetContentFile(fname)"
      ],
      "execution_count": 0,
      "outputs": []
    },
    {
      "metadata": {
        "id": "VrNCavf1pev5",
        "colab_type": "code",
        "colab": {
          "base_uri": "https://localhost:8080/",
          "height": 34
        },
        "outputId": "91f8825d-4052-4bff-b597-527770fa45b5"
      },
      "cell_type": "code",
      "source": [
        "download_drive_dir('./input/shuffle-csvs', '1H8ogDcbBGsgAJkxaOxXd-XR3ZH14su3i')"
      ],
      "execution_count": 4,
      "outputs": [
        {
          "output_type": "stream",
          "text": [
            "100%|██████████| 100/100 [00:00<00:00, 70374.23it/s]\n"
          ],
          "name": "stderr"
        }
      ]
    },
    {
      "metadata": {
        "id": "J5ADsokGo5NO",
        "colab_type": "code",
        "colab": {
          "base_uri": "https://localhost:8080/",
          "height": 51
        },
        "outputId": "5ab6b1f5-35f1-4c25-8205-65504e96867e"
      },
      "cell_type": "code",
      "source": [
        "CATLIST = [\"car.csv\"]\n",
        "download_drive_dir('./input/train-simplified', '1ChgkDM2cfJF-WqLqK2untxOl_2vD5WfT', CATLIST)"
      ],
      "execution_count": 39,
      "outputs": [
        {
          "output_type": "stream",
          "text": [
            "Error creating path: [Errno 17] File exists: './input/train-simplified'\n"
          ],
          "name": "stdout"
        },
        {
          "output_type": "stream",
          "text": [
            "100%|██████████| 340/340 [00:01<00:00, 249.59it/s]\n"
          ],
          "name": "stderr"
        }
      ]
    },
    {
      "metadata": {
        "id": "GTyaJL25-Kr5",
        "colab_type": "code",
        "colab": {}
      },
      "cell_type": "code",
      "source": [
        "valfrac = 0.1\n",
        "num_classes = len(CATLIST)\n",
        "classfiles = os.listdir('./input/train-simplified')\n",
        "numstonames = {i: v[:-4].replace(\" \", \"_\") for i, v in enumerate(classfiles)}\n",
        "imheight, imwidth = 28, 28\n",
        "ims_per_class = 100000"
      ],
      "execution_count": 0,
      "outputs": []
    },
    {
      "metadata": {
        "id": "Kio2wxZd_rlx",
        "colab_type": "code",
        "colab": {
          "base_uri": "https://localhost:8080/",
          "height": 102
        },
        "cellView": "code",
        "outputId": "3270312a-103e-4f7a-f977-c8f5e23a597e"
      },
      "cell_type": "code",
      "source": [
        "#@title Code: Generate Data - Few Categories - X_train, X_val\n",
        "# Conversion to image from sequence\n",
        "\n",
        "import cv2 as cv\n",
        "\n",
        "def draw_it(strokes):\n",
        "    image = Image.new(\"P\", (259,259), color=255)\n",
        "    image_draw = ImageDraw.Draw(image)\n",
        "    for stroke in ast.literal_eval(strokes):\n",
        "        for i in range(len(stroke[0])-1):\n",
        "            image_draw.line([stroke[0][i], \n",
        "                             stroke[1][i],\n",
        "                             stroke[0][i+1], \n",
        "                             stroke[1][i+1]],\n",
        "                            fill=0, width=6)\n",
        "    res = cv.resize(np.array(image), (imheight, imwidth), interpolation=cv.INTER_AREA)\n",
        "    return res/255.\n",
        "\n",
        "# Get training and testing data\n",
        "train_grand = []\n",
        "class_paths = glob('./input/train-simplified/*.csv')\n",
        "for i,c in enumerate(tqdm(class_paths[0: num_classes])):\n",
        "    \n",
        "    train = pd.read_csv(c, usecols=['drawing', 'recognized'], nrows=ims_per_class*5//4)\n",
        "    train = train[train.recognized == True].head(ims_per_class)\n",
        "    imagebag = bag.from_sequence(train.drawing.values).map(draw_it)\n",
        "    \n",
        "    trainarray = np.array(imagebag.compute()) \n",
        "    trainarray = np.reshape(trainarray, (ims_per_class, -1))    \n",
        "    labelarray = np.full((train.shape[0], 1), i)\n",
        "    trainarray = np.concatenate((labelarray, trainarray), axis=1)\n",
        "    train_grand.append(trainarray)\n",
        "    \n",
        "train_grand = np.array([train_grand.pop() for i in np.arange(num_classes)])\n",
        "train_grand = train_grand.reshape((-1, (imheight*imwidth+1)))\n",
        "\n",
        "del trainarray\n",
        "del train\n",
        "\n",
        "cutpt = int(valfrac * train_grand.shape[0])\n",
        "\n",
        "np.random.shuffle(train_grand)\n",
        "y_train, X_train = train_grand[cutpt: , 0], train_grand[cutpt: , 1:]\n",
        "y_val, X_val = train_grand[0:cutpt, 0], train_grand[0:cutpt, 1:]\n",
        "\n",
        "del train_grand\n",
        "\n",
        "y_train = keras.utils.to_categorical(y_train, num_classes)\n",
        "X_train = X_train.reshape(X_train.shape[0], imheight, imwidth, 1)\n",
        "y_val = keras.utils.to_categorical(y_val, num_classes)\n",
        "X_val = X_val.reshape(X_val.shape[0], imheight, imwidth, 1)\n",
        "\n",
        "print(y_train.shape, \"\\n\",\n",
        "      X_train.shape, \"\\n\",\n",
        "      y_val.shape, \"\\n\",\n",
        "      X_val.shape)"
      ],
      "execution_count": 40,
      "outputs": [
        {
          "output_type": "stream",
          "text": [
            "100%|██████████| 1/1 [01:26<00:00, 86.26s/it]\n"
          ],
          "name": "stderr"
        },
        {
          "output_type": "stream",
          "text": [
            "(90000, 1) \n",
            " (90000, 28, 28, 1) \n",
            " (10000, 1) \n",
            " (10000, 28, 28, 1)\n"
          ],
          "name": "stdout"
        }
      ]
    },
    {
      "metadata": {
        "id": "2IhBk4knv5uk",
        "colab_type": "code",
        "cellView": "code",
        "colab": {}
      },
      "cell_type": "code",
      "source": [
        "DP_DIR = './input/shuffle-csvs/'\n",
        "INPUT_DIR = './input/'\n",
        "BASE_SIZE = 256\n",
        "NCSVS = 100\n",
        "NCATS = 340\n",
        "np.random.seed(seed=1987)\n",
        "tf.set_random_seed(seed=1987)"
      ],
      "execution_count": 0,
      "outputs": []
    },
    {
      "metadata": {
        "id": "aX390QD7v9HS",
        "colab_type": "code",
        "colab": {}
      },
      "cell_type": "code",
      "source": [
        "#@title Code: Define Metrics {display-mode: \"form\"}\n",
        "\n",
        "# This code will be hidden when the notebook is loaded.\n",
        "\n",
        "def f2cat(filename):\n",
        "    return filename.split('.')[0]\n",
        "\n",
        "def list_all_categories():\n",
        "    files = os.listdir(os.path.join(INPUT_DIR, 'train_simplified'))\n",
        "    return sorted([f2cat(f) for f in files], key=str.lower)\n",
        "\n",
        "def apk(actual, predicted, k=3):\n",
        "    \"\"\"\n",
        "    Source: https://github.com/benhamner/Metrics/blob/master/Python/ml_metrics/average_precision.py\n",
        "    \"\"\"\n",
        "    if len(predicted) > k:\n",
        "        predicted = predicted[:k]\n",
        "\n",
        "    score = 0.0\n",
        "    num_hits = 0.0\n",
        "\n",
        "    for i, p in enumerate(predicted):\n",
        "        if p in actual and p not in predicted[:i]:\n",
        "            num_hits += 1.0\n",
        "            score += num_hits / (i + 1.0)\n",
        "\n",
        "    if not actual:\n",
        "        return 0.0\n",
        "\n",
        "    return score / min(len(actual), k)\n",
        "\n",
        "def mapk(actual, predicted, k=3):\n",
        "    \"\"\"\n",
        "    Source: https://github.com/benhamner/Metrics/blob/master/Python/ml_metrics/average_precision.py\n",
        "    \"\"\"\n",
        "    return np.mean([apk(a, p, k) for a, p in zip(actual, predicted)])\n",
        "\n",
        "def preds2catids(predictions):\n",
        "    return pd.DataFrame(np.argsort(-predictions, axis=1)[:, :3], columns=['a', 'b', 'c'])\n",
        "\n",
        "def top_3_accuracy(y_true, y_pred):\n",
        "    return top_k_categorical_accuracy(y_true, y_pred, k=3)"
      ],
      "execution_count": 0,
      "outputs": []
    },
    {
      "metadata": {
        "id": "W0DARFLZ80dW",
        "colab_type": "code",
        "colab": {}
      },
      "cell_type": "code",
      "source": [
        "STEPS = 100\n",
        "EPOCHS = 15\n",
        "size = 28\n",
        "batchsize = 512"
      ],
      "execution_count": 0,
      "outputs": []
    },
    {
      "metadata": {
        "id": "NOW0033V8rJQ",
        "colab_type": "code",
        "colab": {},
        "cellView": "both"
      },
      "cell_type": "code",
      "source": [
        "#@title Code: Image generator\n",
        "def draw_cv2(raw_strokes, size=256, lw=12, time_color=True):\n",
        "    img = np.zeros((BASE_SIZE, BASE_SIZE), np.uint8)\n",
        "    for t, stroke in enumerate(raw_strokes):\n",
        "        for i in range(len(stroke[0]) - 1):\n",
        "            color = 255 - min(t, 10) * 13 if time_color else 255\n",
        "            _ = cv2.line(img, (stroke[0][i], stroke[1][i]),\n",
        "                         (stroke[0][i + 1], stroke[1][i + 1]), color, lw)\n",
        "    if size != BASE_SIZE:\n",
        "        return cv2.resize(img, (size, size))\n",
        "    else:\n",
        "        return img\n",
        "\n",
        "def image_generator_xd(size, batchsize, ks, lw=12, time_color=True):\n",
        "    while True:\n",
        "        for k in np.random.permutation(ks):\n",
        "            filename = os.path.join(DP_DIR, 'train_k{}.csv.gz'.format(k))\n",
        "            for df in pd.read_csv(filename, chunksize=batchsize):\n",
        "                df['drawing'] = df['drawing'].apply(ast.literal_eval)\n",
        "                x = np.zeros((len(df), size, size, 1))\n",
        "                for i, raw_strokes in enumerate(df.drawing.values):\n",
        "                    x[i, :, :, 0] = draw_cv2(raw_strokes, size=size, lw=lw,\n",
        "                                             time_color=time_color)\n",
        "                x = preprocess_input(x).astype(np.float32)\n",
        "                y = keras.utils.to_categorical(df.y, num_classes=NCATS)\n",
        "                yield x, x\n",
        "\n",
        "def df_to_image_array_xd(df, size, lw=12, time_color=True):\n",
        "    df['drawing'] = df['drawing'].apply(ast.literal_eval)\n",
        "    x = np.zeros((len(df), size, size, 1))\n",
        "    for i, raw_strokes in enumerate(df.drawing.values):\n",
        "        x[i, :, :, 0] = draw_cv2(raw_strokes, size=size, lw=lw, time_color=time_color)\n",
        "    x = preprocess_input(x).astype(np.float32)\n",
        "    return x"
      ],
      "execution_count": 0,
      "outputs": []
    },
    {
      "metadata": {
        "id": "cuSOzyAx8wa_",
        "colab_type": "code",
        "colab": {}
      },
      "cell_type": "code",
      "source": [
        "valid_df = pd.read_csv(os.path.join(DP_DIR, 'train_k{}.csv.gz'.format(NCSVS - 1)), nrows=6000)\n",
        "x_valid = df_to_image_array_xd(valid_df, size)\n",
        "y_valid = keras.utils.to_categorical(valid_df.y, num_classes=NCATS)\n",
        "print(x_valid.shape, y_valid.shape)\n",
        "print('Validation array memory {:.2f} GB'.format(x_valid.nbytes / 1024.**3 ))"
      ],
      "execution_count": 0,
      "outputs": []
    },
    {
      "metadata": {
        "id": "96VXbWjS83ce",
        "colab_type": "code",
        "colab": {}
      },
      "cell_type": "code",
      "source": [
        "train_datagen = image_generator_xd(size=size, batchsize=batchsize, ks=range(NCSVS - 1))"
      ],
      "execution_count": 0,
      "outputs": []
    },
    {
      "metadata": {
        "id": "cQ8qzeE3Ra8X",
        "colab_type": "code",
        "colab": {}
      },
      "cell_type": "code",
      "source": [
        "from keras.layers import Input, Dense, Conv2D, Conv2DTranspose, MaxPooling2D, UpSampling2D, Lambda\n",
        "from keras.models import Model\n",
        "from keras.layers import Reshape\n",
        "from keras import backend as K\n",
        "from keras import objectives"
      ],
      "execution_count": 0,
      "outputs": []
    },
    {
      "metadata": {
        "id": "4zVMOn0vHkcz",
        "colab_type": "code",
        "cellView": "both",
        "colab": {}
      },
      "cell_type": "code",
      "source": [
        "#@title conv_autoencoder_1\n",
        "def conv_autoencoder_1(size):\n",
        "    input_img = Input(shape=(size, size, 1))  # adapt this if using `channels_first` image data format\n",
        "\n",
        "    x = Conv2D(16, (3, 3), activation='relu', padding='same')(input_img)\n",
        "    x = MaxPooling2D((2, 2), padding='same')(x)\n",
        "    x = Conv2D(8, (3, 3), activation='relu', padding='same')(x)\n",
        "    x = MaxPooling2D((2, 2), padding='same')(x)\n",
        "    x = Conv2D(8, (3, 3), activation='relu', padding='same')(x)\n",
        "    x = MaxPooling2D((2, 2), padding='same')(x)\n",
        "    x = Flatten()(x)\n",
        "    encoding = Dense(10)(x)\n",
        "    # at this point the representation is (4, 4, 8) i.e. 128-dimensional\n",
        "    x = Dense(128)(encoding)\n",
        "    x = Reshape(target_shape=(4, 4, 8))(x)\n",
        "    x = Conv2D(8, (3, 3), activation='relu', padding='same')(x)\n",
        "    x = UpSampling2D((2, 2))(x)\n",
        "    x = Conv2D(8, (3, 3), activation='relu', padding='same')(x)\n",
        "    x = UpSampling2D((2, 2))(x)\n",
        "    x = Conv2D(16, (3, 3), activation='relu')(x)\n",
        "    x = UpSampling2D((2, 2))(x)\n",
        "    decoded = Conv2D(1, (3, 3), activation='sigmoid', padding='same')(x)\n",
        "\n",
        "    encoder = Model(input_img, encoding)\n",
        "    autoencoder = Model(input_img, decoded)\n",
        "    \n",
        "    return encoder, autoencoder"
      ],
      "execution_count": 0,
      "outputs": []
    },
    {
      "metadata": {
        "id": "SuQRnKqFRtgc",
        "colab_type": "code",
        "colab": {}
      },
      "cell_type": "code",
      "source": [
        "def conv_autoencoder_2(size):\n",
        "    input_img = Input(shape=(size, size, 1))  # adapt this if using `channels_first` image data format\n",
        "    x = Conv2D(64, (7, 7), activation='relu', padding='same')(input_img)\n",
        "    x = Conv2D(64, (7, 7), activation='relu', padding='same')(x)\n",
        "    x = Conv2D(64, (7, 7), strides=(2,2), activation='relu', padding='same')(x) # 12 x 12 x 32\n",
        "    x = Conv2D(32, (5, 5), strides=(2,2), activation='relu', padding='same')(x) # 12 x 12 x 32\n",
        "    x = Conv2D(16, (3, 3), strides=(2,2), activation='relu', padding='same')(x) # 4 x 4 x 16\n",
        "    x = Flatten()(x)\n",
        "    encoding = Dense(10)(x)\n",
        "    x = Dense(784)(encoding)\n",
        "    x = Reshape(target_shape=(7, 7, 16))(x)\n",
        "    x = Conv2DTranspose(16, (3, 3), strides=(2,2), activation='relu', padding='same')(x)\n",
        "    x = Conv2DTranspose(32, (5, 5), strides=(2,2), activation='relu', padding='same')(x)\n",
        "    x = Conv2DTranspose(64, (7, 7), strides=(2,2), activation='relu', padding='same')(x)\n",
        "    x = Conv2DTranspose(64, (7, 7), activation='relu', padding='same')(x)\n",
        "    x = Conv2DTranspose(64, (7, 7), activation='relu', padding='same')(x)\n",
        "    decoded = Conv2D(1, (3, 3), activation='sigmoid', padding='same')(x)\n",
        "    \n",
        "    \n",
        "    encoder = Model(input_img, encoding)\n",
        "    autoencoder = Model(input_img, decoded)\n",
        "    \n",
        "    return encoder, autoencoder"
      ],
      "execution_count": 0,
      "outputs": []
    },
    {
      "metadata": {
        "id": "_AibyCIfwuwW",
        "colab_type": "code",
        "colab": {}
      },
      "cell_type": "code",
      "source": [
        "batch_size = batchsize\n",
        "original_dim = 28*28\n",
        "latent_dim = 128\n",
        "\n",
        "def sampling(args):\n",
        "    \"\"\"Reparameterization trick by sampling fr an isotropic unit Gaussian.\n",
        "    # Arguments:\n",
        "        args (tensor): mean and log of variance of Q(z|X)\n",
        "    # Returns:\n",
        "        z (tensor): sampled latent vector\n",
        "    \"\"\"\n",
        "\n",
        "    z_mean, z_log_var = args\n",
        "    batch = K.shape(z_mean)[0]\n",
        "    dim = K.int_shape(z_mean)[1]\n",
        "    # by default, random_normal has mean=0 and std=1.0\n",
        "    epsilon = K.random_normal(shape=(batch, dim))\n",
        "    return z_mean + K.exp(0.5 * z_log_var) * epsilon\n",
        "\n",
        "def variational_autoencoder(size):\n",
        "    input_img = Input(shape=(size, size, 1))\n",
        "    x = Conv2D(4, (2, 2), activation='relu', padding='same')(input_img)\n",
        "    x = Conv2D(4, (2, 2), activation='relu', padding='same')(x)\n",
        "#     x = Conv2D(4, (2, 2), strides=(2,2), activation='relu', padding='same')(x)\n",
        "    x = Conv2D(8, (2, 2), activation='relu', padding='same')(x)\n",
        "    x = Conv2D(8, (2, 2), activation='relu', padding='same')(x)\n",
        "    x = Conv2D(8, (5, 5), strides=(2,2), activation='relu', padding='same')(x)\n",
        "    \n",
        "    x = Flatten()(x)\n",
        "    x = Dense(256, activation='relu')(x)\n",
        "    z_mean = Dense(latent_dim)(x)\n",
        "    z_log_sigma = Dense(latent_dim)(x)\n",
        "\n",
        "    # note that \"output_shape\" isn't necessary with the TensorFlow backend\n",
        "    # so you could write `Lambda(sampling)([z_mean, z_log_sigma])`\n",
        "    z = Lambda(sampling, output_shape=(latent_dim,))([z_mean, z_log_sigma])\n",
        "\n",
        "    def decoder_convs(x):\n",
        "        x = Dense(256, activation='relu')(x)\n",
        "        x = Dense(original_dim)(x)\n",
        "        x = Reshape(target_shape=(7, 7, 16))(x)\n",
        "        x = Conv2DTranspose(8, (5, 5), strides=(2,2), activation='relu', padding='same')(x)\n",
        "        x = Conv2D(8, (2, 2), activation='relu', padding='same')(x)\n",
        "        x = Conv2D(8, (2, 2), activation='relu', padding='same')(x)\n",
        "        x = Conv2DTranspose(4, (2, 2), strides=(2,2), activation='relu', padding='same')(x)\n",
        "        x = Conv2D(4, (2, 2), activation='relu', padding='same')(x)\n",
        "        x = Conv2D(4, (2, 2), activation='relu', padding='same')(x)\n",
        "        x = Conv2D(1, (2, 2), activation='sigmoid', padding='same')(x)\n",
        "        x = Reshape(target_shape=(28, 28, 1))(x)\n",
        "        return x\n",
        "    \n",
        "    x_decoded_mean = decoder_convs(z)\n",
        "    \n",
        "    # end-to-end autoencoder\n",
        "    vae = Model(input_img, x_decoded_mean)\n",
        "\n",
        "    # encoder, from inputs to latent space\n",
        "    encoder = Model(input_img, z_mean)\n",
        "\n",
        "    # generator, from latent space to reconstructed inputs\n",
        "    decoder_input = Input(shape=(latent_dim,))\n",
        "    _x_decoded_mean = decoder_convs(decoder_input)\n",
        "    generator = Model(decoder_input, _x_decoded_mean)\n",
        "    \n",
        "    def vae_loss(x, x_decoded_mean):\n",
        "        xent_loss = K.mean(objectives.binary_crossentropy(x, x_decoded_mean), axis=(1, 2))\n",
        "        print(xent_loss.shape)\n",
        "        kl_loss = - 0.5 * K.mean(1 + z_log_sigma - K.square(z_mean) - K.exp(z_log_sigma), axis=-1)\n",
        "        print(kl_loss.shape)\n",
        "        return xent_loss + kl_loss\n",
        "\n",
        "    return vae, encoder, generator, vae_loss"
      ],
      "execution_count": 0,
      "outputs": []
    },
    {
      "metadata": {
        "id": "3tBLg0SNxwg1",
        "colab_type": "code",
        "colab": {}
      },
      "cell_type": "code",
      "source": [
        "vae, encoder, generator, vae_loss = variational_autoencoder(size)\n",
        "vae.compile(optimizer=keras.optimizers.RMSprop(lr=0.001, rho=0.9, epsilon=None, decay=0.0), loss=vae_loss)"
      ],
      "execution_count": 0,
      "outputs": []
    },
    {
      "metadata": {
        "id": "6iUqNhiSBRD0",
        "colab_type": "code",
        "colab": {}
      },
      "cell_type": "code",
      "source": [
        "vae.fit(X_train, X_train, epochs=120, batch_size=512, shuffle=True, validation_data=(X_val, X_val))"
      ],
      "execution_count": 0,
      "outputs": []
    },
    {
      "metadata": {
        "id": "qKRbCwmjIHeN",
        "colab_type": "code",
        "colab": {
          "base_uri": "https://localhost:8080/",
          "height": 51
        },
        "cellView": "form",
        "outputId": "b034e96e-3aa2-4b24-a571-297628b37d5d"
      },
      "cell_type": "code",
      "source": [
        "#@title Code: Import MNIST Data - x_train, x_test\n",
        "from keras.datasets import mnist\n",
        "import numpy as np\n",
        "\n",
        "(x_train, _), (x_test, _) = mnist.load_data()\n",
        "\n",
        "x_train = x_train.astype('float32') / 255.\n",
        "x_test = x_test.astype('float32') / 255.\n",
        "x_train = np.reshape(x_train, (len(x_train), 28, 28, 1))  # adapt this if using `channels_first` image data format\n",
        "x_test = np.reshape(x_test, (len(x_test), 28, 28, 1))  # adapt this if using `channels_first` image data format"
      ],
      "execution_count": 24,
      "outputs": [
        {
          "output_type": "stream",
          "text": [
            "Downloading data from https://s3.amazonaws.com/img-datasets/mnist.npz\n",
            "11493376/11490434 [==============================] - 1s 0us/step\n"
          ],
          "name": "stdout"
        }
      ]
    },
    {
      "metadata": {
        "id": "SebgERZkgu56",
        "colab_type": "code",
        "colab": {
          "base_uri": "https://localhost:8080/",
          "height": 4131
        },
        "outputId": "4e3af57d-caf4-460e-e1d0-12fa8beed830"
      },
      "cell_type": "code",
      "source": [
        "vae.fit(x_train, x_train, epochs=120, batch_size=512, shuffle=True, validation_data=(x_test, x_test))"
      ],
      "execution_count": 27,
      "outputs": [
        {
          "output_type": "stream",
          "text": [
            "Train on 60000 samples, validate on 10000 samples\n",
            "Epoch 1/120\n",
            "60000/60000 [==============================] - 7s 109us/step - loss: 0.3539 - val_loss: 0.2934\n",
            "Epoch 2/120\n",
            "60000/60000 [==============================] - 5s 88us/step - loss: 0.2737 - val_loss: 0.2586\n",
            "Epoch 3/120\n",
            "60000/60000 [==============================] - 5s 87us/step - loss: 0.2542 - val_loss: 0.2513\n",
            "Epoch 4/120\n",
            "60000/60000 [==============================] - 5s 87us/step - loss: 0.2499 - val_loss: 0.2477\n",
            "Epoch 5/120\n",
            "60000/60000 [==============================] - 5s 87us/step - loss: 0.2450 - val_loss: 0.2414\n",
            "Epoch 6/120\n",
            "60000/60000 [==============================] - 5s 88us/step - loss: 0.2391 - val_loss: 0.2389\n",
            "Epoch 7/120\n",
            "60000/60000 [==============================] - 5s 88us/step - loss: 0.2344 - val_loss: 0.2340\n",
            "Epoch 8/120\n",
            "60000/60000 [==============================] - 5s 88us/step - loss: 0.2312 - val_loss: 0.2317\n",
            "Epoch 9/120\n",
            "60000/60000 [==============================] - 5s 88us/step - loss: 0.2285 - val_loss: 0.2277\n",
            "Epoch 10/120\n",
            "60000/60000 [==============================] - 5s 88us/step - loss: 0.2273 - val_loss: 0.2291\n",
            "Epoch 11/120\n",
            "60000/60000 [==============================] - 5s 87us/step - loss: 0.2259 - val_loss: 0.2245\n",
            "Epoch 12/120\n",
            "60000/60000 [==============================] - 5s 87us/step - loss: 0.2239 - val_loss: 0.2280\n",
            "Epoch 13/120\n",
            "60000/60000 [==============================] - 5s 87us/step - loss: 0.2230 - val_loss: 0.2229\n",
            "Epoch 14/120\n",
            "60000/60000 [==============================] - 5s 87us/step - loss: 0.2222 - val_loss: 0.2236\n",
            "Epoch 15/120\n",
            "60000/60000 [==============================] - 5s 87us/step - loss: 0.2214 - val_loss: 0.2209\n",
            "Epoch 16/120\n",
            "60000/60000 [==============================] - 5s 87us/step - loss: 0.2204 - val_loss: 0.2202\n",
            "Epoch 17/120\n",
            "60000/60000 [==============================] - 5s 87us/step - loss: 0.2197 - val_loss: 0.2200\n",
            "Epoch 18/120\n",
            "60000/60000 [==============================] - 5s 88us/step - loss: 0.2193 - val_loss: 0.2173\n",
            "Epoch 19/120\n",
            "60000/60000 [==============================] - 5s 87us/step - loss: 0.2188 - val_loss: 0.2176\n",
            "Epoch 20/120\n",
            "60000/60000 [==============================] - 5s 87us/step - loss: 0.2185 - val_loss: 0.2172\n",
            "Epoch 21/120\n",
            "60000/60000 [==============================] - 5s 87us/step - loss: 0.2182 - val_loss: 0.2194\n",
            "Epoch 22/120\n",
            "60000/60000 [==============================] - 5s 88us/step - loss: 0.2179 - val_loss: 0.2190\n",
            "Epoch 23/120\n",
            "60000/60000 [==============================] - 5s 88us/step - loss: 0.2178 - val_loss: 0.2181\n",
            "Epoch 24/120\n",
            "60000/60000 [==============================] - 5s 87us/step - loss: 0.2173 - val_loss: 0.2196\n",
            "Epoch 25/120\n",
            "60000/60000 [==============================] - 5s 87us/step - loss: 0.2172 - val_loss: 0.2180\n",
            "Epoch 26/120\n",
            "60000/60000 [==============================] - 5s 89us/step - loss: 0.2170 - val_loss: 0.2169\n",
            "Epoch 27/120\n",
            "60000/60000 [==============================] - 5s 88us/step - loss: 0.2167 - val_loss: 0.2167\n",
            "Epoch 28/120\n",
            "60000/60000 [==============================] - 5s 88us/step - loss: 0.2166 - val_loss: 0.2176\n",
            "Epoch 29/120\n",
            "60000/60000 [==============================] - 5s 88us/step - loss: 0.2163 - val_loss: 0.2162\n",
            "Epoch 30/120\n",
            "60000/60000 [==============================] - 5s 87us/step - loss: 0.2161 - val_loss: 0.2168\n",
            "Epoch 31/120\n",
            "60000/60000 [==============================] - 5s 87us/step - loss: 0.2160 - val_loss: 0.2168\n",
            "Epoch 32/120\n",
            "60000/60000 [==============================] - 5s 87us/step - loss: 0.2159 - val_loss: 0.2165\n",
            "Epoch 33/120\n",
            "60000/60000 [==============================] - 5s 86us/step - loss: 0.2158 - val_loss: 0.2151\n",
            "Epoch 34/120\n",
            "60000/60000 [==============================] - 5s 87us/step - loss: 0.2156 - val_loss: 0.2142\n",
            "Epoch 35/120\n",
            "60000/60000 [==============================] - 5s 87us/step - loss: 0.2155 - val_loss: 0.2141\n",
            "Epoch 36/120\n",
            "60000/60000 [==============================] - 5s 87us/step - loss: 0.2152 - val_loss: 0.2152\n",
            "Epoch 37/120\n",
            "60000/60000 [==============================] - 5s 87us/step - loss: 0.2150 - val_loss: 0.2148\n",
            "Epoch 38/120\n",
            "60000/60000 [==============================] - 5s 86us/step - loss: 0.2149 - val_loss: 0.2144\n",
            "Epoch 39/120\n",
            "60000/60000 [==============================] - 5s 86us/step - loss: 0.2148 - val_loss: 0.2186\n",
            "Epoch 40/120\n",
            "60000/60000 [==============================] - 5s 87us/step - loss: 0.2147 - val_loss: 0.2145\n",
            "Epoch 41/120\n",
            "60000/60000 [==============================] - 5s 87us/step - loss: 0.2145 - val_loss: 0.2162\n",
            "Epoch 42/120\n",
            "60000/60000 [==============================] - 5s 87us/step - loss: 0.2146 - val_loss: 0.2140\n",
            "Epoch 43/120\n",
            "60000/60000 [==============================] - 5s 87us/step - loss: 0.2143 - val_loss: 0.2133\n",
            "Epoch 44/120\n",
            "60000/60000 [==============================] - 5s 87us/step - loss: 0.2142 - val_loss: 0.2138\n",
            "Epoch 45/120\n",
            "60000/60000 [==============================] - 5s 88us/step - loss: 0.2141 - val_loss: 0.2147\n",
            "Epoch 46/120\n",
            "60000/60000 [==============================] - 5s 88us/step - loss: 0.2140 - val_loss: 0.2141\n",
            "Epoch 47/120\n",
            "60000/60000 [==============================] - 5s 88us/step - loss: 0.2138 - val_loss: 0.2151\n",
            "Epoch 48/120\n",
            "60000/60000 [==============================] - 5s 87us/step - loss: 0.2140 - val_loss: 0.2151\n",
            "Epoch 49/120\n",
            "60000/60000 [==============================] - 5s 87us/step - loss: 0.2137 - val_loss: 0.2179\n",
            "Epoch 50/120\n",
            "60000/60000 [==============================] - 5s 87us/step - loss: 0.2136 - val_loss: 0.2145\n",
            "Epoch 51/120\n",
            "60000/60000 [==============================] - 5s 87us/step - loss: 0.2136 - val_loss: 0.2131\n",
            "Epoch 52/120\n",
            "60000/60000 [==============================] - 5s 87us/step - loss: 0.2136 - val_loss: 0.2156\n",
            "Epoch 53/120\n",
            "60000/60000 [==============================] - 5s 87us/step - loss: 0.2134 - val_loss: 0.2135\n",
            "Epoch 54/120\n",
            "60000/60000 [==============================] - 5s 87us/step - loss: 0.2132 - val_loss: 0.2132\n",
            "Epoch 55/120\n",
            "60000/60000 [==============================] - 5s 87us/step - loss: 0.2131 - val_loss: 0.2131\n",
            "Epoch 56/120\n",
            "60000/60000 [==============================] - 5s 87us/step - loss: 0.2130 - val_loss: 0.2130\n",
            "Epoch 57/120\n",
            "60000/60000 [==============================] - 5s 87us/step - loss: 0.2130 - val_loss: 0.2135\n",
            "Epoch 58/120\n",
            "60000/60000 [==============================] - 5s 87us/step - loss: 0.2130 - val_loss: 0.2123\n",
            "Epoch 59/120\n",
            "60000/60000 [==============================] - 5s 87us/step - loss: 0.2128 - val_loss: 0.2124\n",
            "Epoch 60/120\n",
            "60000/60000 [==============================] - 5s 87us/step - loss: 0.2128 - val_loss: 0.2124\n",
            "Epoch 61/120\n",
            "60000/60000 [==============================] - 5s 87us/step - loss: 0.2129 - val_loss: 0.2121\n",
            "Epoch 62/120\n",
            "60000/60000 [==============================] - 5s 87us/step - loss: 0.2127 - val_loss: 0.2176\n",
            "Epoch 63/120\n",
            "60000/60000 [==============================] - 5s 87us/step - loss: 0.2127 - val_loss: 0.2110\n",
            "Epoch 64/120\n",
            "60000/60000 [==============================] - 5s 87us/step - loss: 0.2126 - val_loss: 0.2125\n",
            "Epoch 65/120\n",
            "60000/60000 [==============================] - 5s 87us/step - loss: 0.2126 - val_loss: 0.2121\n",
            "Epoch 66/120\n",
            "60000/60000 [==============================] - 5s 89us/step - loss: 0.2125 - val_loss: 0.2120\n",
            "Epoch 67/120\n",
            "60000/60000 [==============================] - 5s 88us/step - loss: 0.2124 - val_loss: 0.2123\n",
            "Epoch 68/120\n",
            "60000/60000 [==============================] - 5s 88us/step - loss: 0.2125 - val_loss: 0.2137\n",
            "Epoch 69/120\n",
            "60000/60000 [==============================] - 5s 87us/step - loss: 0.2125 - val_loss: 0.2114\n",
            "Epoch 70/120\n",
            "60000/60000 [==============================] - 5s 87us/step - loss: 0.2123 - val_loss: 0.2120\n",
            "Epoch 71/120\n",
            "60000/60000 [==============================] - 5s 87us/step - loss: 0.2123 - val_loss: 0.2123\n",
            "Epoch 72/120\n",
            "60000/60000 [==============================] - 5s 87us/step - loss: 0.2123 - val_loss: 0.2118\n",
            "Epoch 73/120\n",
            "60000/60000 [==============================] - 5s 86us/step - loss: 0.2121 - val_loss: 0.2141\n",
            "Epoch 74/120\n",
            "60000/60000 [==============================] - 5s 87us/step - loss: 0.2120 - val_loss: 0.2129\n",
            "Epoch 75/120\n",
            "60000/60000 [==============================] - 5s 87us/step - loss: 0.2121 - val_loss: 0.2122\n",
            "Epoch 76/120\n",
            "60000/60000 [==============================] - 5s 88us/step - loss: 0.2121 - val_loss: 0.2120\n",
            "Epoch 77/120\n",
            "60000/60000 [==============================] - 5s 87us/step - loss: 0.2119 - val_loss: 0.2116\n",
            "Epoch 78/120\n",
            "60000/60000 [==============================] - 5s 87us/step - loss: 0.2120 - val_loss: 0.2140\n",
            "Epoch 79/120\n",
            "60000/60000 [==============================] - 5s 87us/step - loss: 0.2120 - val_loss: 0.2123\n",
            "Epoch 80/120\n",
            "60000/60000 [==============================] - 5s 87us/step - loss: 0.2121 - val_loss: 0.2140\n",
            "Epoch 81/120\n",
            "60000/60000 [==============================] - 5s 87us/step - loss: 0.2118 - val_loss: 0.2113\n",
            "Epoch 82/120\n",
            "60000/60000 [==============================] - 5s 87us/step - loss: 0.2120 - val_loss: 0.2128\n",
            "Epoch 83/120\n",
            "60000/60000 [==============================] - 5s 88us/step - loss: 0.2118 - val_loss: 0.2117\n",
            "Epoch 84/120\n",
            "60000/60000 [==============================] - 5s 87us/step - loss: 0.2118 - val_loss: 0.2122\n",
            "Epoch 85/120\n",
            "60000/60000 [==============================] - 5s 87us/step - loss: 0.2118 - val_loss: 0.2112\n",
            "Epoch 86/120\n",
            "60000/60000 [==============================] - 5s 87us/step - loss: 0.2119 - val_loss: 0.2117\n",
            "Epoch 87/120\n",
            "60000/60000 [==============================] - 5s 88us/step - loss: 0.2118 - val_loss: 0.2111\n",
            "Epoch 88/120\n",
            "60000/60000 [==============================] - 5s 87us/step - loss: 0.2117 - val_loss: 0.2107\n",
            "Epoch 89/120\n",
            "60000/60000 [==============================] - 5s 87us/step - loss: 0.2117 - val_loss: 0.2117\n",
            "Epoch 90/120\n",
            "60000/60000 [==============================] - 5s 87us/step - loss: 0.2115 - val_loss: 0.2106\n",
            "Epoch 91/120\n",
            "60000/60000 [==============================] - 5s 87us/step - loss: 0.2115 - val_loss: 0.2117\n",
            "Epoch 92/120\n",
            "60000/60000 [==============================] - 5s 87us/step - loss: 0.2115 - val_loss: 0.2117\n",
            "Epoch 93/120\n",
            "60000/60000 [==============================] - 5s 87us/step - loss: 0.2115 - val_loss: 0.2111\n",
            "Epoch 94/120\n",
            "60000/60000 [==============================] - 5s 87us/step - loss: 0.2114 - val_loss: 0.2127\n",
            "Epoch 95/120\n",
            "60000/60000 [==============================] - 5s 89us/step - loss: 0.2116 - val_loss: 0.2130\n",
            "Epoch 96/120\n",
            "60000/60000 [==============================] - 5s 88us/step - loss: 0.2114 - val_loss: 0.2128\n",
            "Epoch 97/120\n",
            "60000/60000 [==============================] - 5s 87us/step - loss: 0.2113 - val_loss: 0.2110\n",
            "Epoch 98/120\n",
            "60000/60000 [==============================] - 5s 88us/step - loss: 0.2113 - val_loss: 0.2147\n",
            "Epoch 99/120\n",
            "60000/60000 [==============================] - 5s 87us/step - loss: 0.2112 - val_loss: 0.2106\n",
            "Epoch 100/120\n",
            "60000/60000 [==============================] - 5s 88us/step - loss: 0.2114 - val_loss: 0.2120\n",
            "Epoch 101/120\n",
            "60000/60000 [==============================] - 5s 88us/step - loss: 0.2112 - val_loss: 0.2118\n",
            "Epoch 102/120\n",
            "60000/60000 [==============================] - 5s 87us/step - loss: 0.2112 - val_loss: 0.2132\n",
            "Epoch 103/120\n",
            "60000/60000 [==============================] - 5s 87us/step - loss: 0.2112 - val_loss: 0.2100\n",
            "Epoch 104/120\n",
            "60000/60000 [==============================] - 5s 87us/step - loss: 0.2111 - val_loss: 0.2118\n",
            "Epoch 105/120\n",
            "60000/60000 [==============================] - 5s 86us/step - loss: 0.2113 - val_loss: 0.2109\n",
            "Epoch 106/120\n",
            "60000/60000 [==============================] - 5s 87us/step - loss: 0.2111 - val_loss: 0.2119\n",
            "Epoch 107/120\n",
            "60000/60000 [==============================] - 5s 87us/step - loss: 0.2111 - val_loss: 0.2132\n",
            "Epoch 108/120\n",
            "60000/60000 [==============================] - 5s 88us/step - loss: 0.2112 - val_loss: 0.2118\n",
            "Epoch 109/120\n",
            "60000/60000 [==============================] - 5s 89us/step - loss: 0.2110 - val_loss: 0.2123\n",
            "Epoch 110/120\n",
            "60000/60000 [==============================] - 5s 87us/step - loss: 0.2111 - val_loss: 0.2108\n",
            "Epoch 111/120\n",
            "60000/60000 [==============================] - 5s 87us/step - loss: 0.2111 - val_loss: 0.2114\n",
            "Epoch 112/120\n",
            "60000/60000 [==============================] - 5s 88us/step - loss: 0.2111 - val_loss: 0.2126\n",
            "Epoch 113/120\n",
            "60000/60000 [==============================] - 5s 88us/step - loss: 0.2110 - val_loss: 0.2100\n",
            "Epoch 114/120\n",
            "60000/60000 [==============================] - 5s 88us/step - loss: 0.2110 - val_loss: 0.2114\n",
            "Epoch 115/120\n",
            "60000/60000 [==============================] - 5s 87us/step - loss: 0.2109 - val_loss: 0.2118\n",
            "Epoch 116/120\n",
            "60000/60000 [==============================] - 5s 87us/step - loss: 0.2109 - val_loss: 0.2112\n",
            "Epoch 117/120\n",
            "60000/60000 [==============================] - 5s 87us/step - loss: 0.2109 - val_loss: 0.2127\n",
            "Epoch 118/120\n",
            "60000/60000 [==============================] - 5s 87us/step - loss: 0.2109 - val_loss: 0.2106\n",
            "Epoch 119/120\n",
            "60000/60000 [==============================] - 5s 87us/step - loss: 0.2107 - val_loss: 0.2106\n",
            "Epoch 120/120\n",
            "60000/60000 [==============================] - 5s 87us/step - loss: 0.2109 - val_loss: 0.2122\n"
          ],
          "name": "stdout"
        },
        {
          "output_type": "execute_result",
          "data": {
            "text/plain": [
              "<keras.callbacks.History at 0x7f0736fef748>"
            ]
          },
          "metadata": {
            "tags": []
          },
          "execution_count": 27
        }
      ]
    },
    {
      "metadata": {
        "id": "ELKRSfc-jsnD",
        "colab_type": "code",
        "colab": {
          "base_uri": "https://localhost:8080/",
          "height": 4131
        },
        "outputId": "28b1cc7d-1a43-413c-f5e4-5436f6a6076c"
      },
      "cell_type": "code",
      "source": [
        "vae.fit(x_train, x_train, epochs=120, batch_size=512, shuffle=True, validation_data=(x_test, x_test))"
      ],
      "execution_count": 30,
      "outputs": [
        {
          "output_type": "stream",
          "text": [
            "Train on 60000 samples, validate on 10000 samples\n",
            "Epoch 1/120\n",
            "60000/60000 [==============================] - 5s 91us/step - loss: 0.2108 - val_loss: 0.2099\n",
            "Epoch 2/120\n",
            "60000/60000 [==============================] - 5s 89us/step - loss: 0.2109 - val_loss: 0.2107\n",
            "Epoch 3/120\n",
            "60000/60000 [==============================] - 5s 88us/step - loss: 0.2109 - val_loss: 0.2106\n",
            "Epoch 4/120\n",
            "60000/60000 [==============================] - 5s 88us/step - loss: 0.2108 - val_loss: 0.2113\n",
            "Epoch 5/120\n",
            "60000/60000 [==============================] - 5s 87us/step - loss: 0.2110 - val_loss: 0.2104\n",
            "Epoch 6/120\n",
            "60000/60000 [==============================] - 5s 87us/step - loss: 0.2108 - val_loss: 0.2100\n",
            "Epoch 7/120\n",
            "60000/60000 [==============================] - 5s 87us/step - loss: 0.2108 - val_loss: 0.2116\n",
            "Epoch 8/120\n",
            "60000/60000 [==============================] - 5s 88us/step - loss: 0.2109 - val_loss: 0.2120\n",
            "Epoch 9/120\n",
            "60000/60000 [==============================] - 5s 88us/step - loss: 0.2107 - val_loss: 0.2106\n",
            "Epoch 10/120\n",
            "60000/60000 [==============================] - 5s 88us/step - loss: 0.2107 - val_loss: 0.2117\n",
            "Epoch 11/120\n",
            "60000/60000 [==============================] - 5s 87us/step - loss: 0.2107 - val_loss: 0.2114\n",
            "Epoch 12/120\n",
            "60000/60000 [==============================] - 5s 88us/step - loss: 0.2106 - val_loss: 0.2105\n",
            "Epoch 13/120\n",
            "60000/60000 [==============================] - 5s 88us/step - loss: 0.2107 - val_loss: 0.2109\n",
            "Epoch 14/120\n",
            "60000/60000 [==============================] - 5s 87us/step - loss: 0.2107 - val_loss: 0.2107\n",
            "Epoch 15/120\n",
            "60000/60000 [==============================] - 5s 88us/step - loss: 0.2105 - val_loss: 0.2107\n",
            "Epoch 16/120\n",
            "60000/60000 [==============================] - 5s 87us/step - loss: 0.2105 - val_loss: 0.2140\n",
            "Epoch 17/120\n",
            "60000/60000 [==============================] - 5s 88us/step - loss: 0.2106 - val_loss: 0.2115\n",
            "Epoch 18/120\n",
            "60000/60000 [==============================] - 5s 88us/step - loss: 0.2105 - val_loss: 0.2118\n",
            "Epoch 19/120\n",
            "60000/60000 [==============================] - 5s 87us/step - loss: 0.2105 - val_loss: 0.2102\n",
            "Epoch 20/120\n",
            "60000/60000 [==============================] - 5s 87us/step - loss: 0.2107 - val_loss: 0.2112\n",
            "Epoch 21/120\n",
            "60000/60000 [==============================] - 5s 87us/step - loss: 0.2104 - val_loss: 0.2116\n",
            "Epoch 22/120\n",
            "60000/60000 [==============================] - 5s 89us/step - loss: 0.2104 - val_loss: 0.2097\n",
            "Epoch 23/120\n",
            "60000/60000 [==============================] - 5s 88us/step - loss: 0.2105 - val_loss: 0.2115\n",
            "Epoch 24/120\n",
            "60000/60000 [==============================] - 5s 89us/step - loss: 0.2106 - val_loss: 0.2107\n",
            "Epoch 25/120\n",
            "60000/60000 [==============================] - 5s 88us/step - loss: 0.2104 - val_loss: 0.2101\n",
            "Epoch 26/120\n",
            "60000/60000 [==============================] - 5s 87us/step - loss: 0.2103 - val_loss: 0.2119\n",
            "Epoch 27/120\n",
            "60000/60000 [==============================] - 5s 87us/step - loss: 0.2104 - val_loss: 0.2102\n",
            "Epoch 28/120\n",
            "60000/60000 [==============================] - 5s 87us/step - loss: 0.2104 - val_loss: 0.2101\n",
            "Epoch 29/120\n",
            "60000/60000 [==============================] - 5s 87us/step - loss: 0.2104 - val_loss: 0.2105\n",
            "Epoch 30/120\n",
            "60000/60000 [==============================] - 5s 87us/step - loss: 0.2104 - val_loss: 0.2102\n",
            "Epoch 31/120\n",
            "60000/60000 [==============================] - 5s 87us/step - loss: 0.2103 - val_loss: 0.2097\n",
            "Epoch 32/120\n",
            "60000/60000 [==============================] - 5s 87us/step - loss: 0.2103 - val_loss: 0.2106\n",
            "Epoch 33/120\n",
            "60000/60000 [==============================] - 5s 89us/step - loss: 0.2104 - val_loss: 0.2110\n",
            "Epoch 34/120\n",
            "60000/60000 [==============================] - 5s 89us/step - loss: 0.2103 - val_loss: 0.2112\n",
            "Epoch 35/120\n",
            "60000/60000 [==============================] - 5s 89us/step - loss: 0.2104 - val_loss: 0.2104\n",
            "Epoch 36/120\n",
            "60000/60000 [==============================] - 5s 89us/step - loss: 0.2101 - val_loss: 0.2109\n",
            "Epoch 37/120\n",
            "60000/60000 [==============================] - 5s 89us/step - loss: 0.2105 - val_loss: 0.2112\n",
            "Epoch 38/120\n",
            "60000/60000 [==============================] - 5s 89us/step - loss: 0.2102 - val_loss: 0.2109\n",
            "Epoch 39/120\n",
            "60000/60000 [==============================] - 5s 88us/step - loss: 0.2102 - val_loss: 0.2096\n",
            "Epoch 40/120\n",
            "60000/60000 [==============================] - 5s 88us/step - loss: 0.2101 - val_loss: 0.2108\n",
            "Epoch 41/120\n",
            "60000/60000 [==============================] - 5s 87us/step - loss: 0.2103 - val_loss: 0.2134\n",
            "Epoch 42/120\n",
            "60000/60000 [==============================] - 5s 87us/step - loss: 0.2103 - val_loss: 0.2098\n",
            "Epoch 43/120\n",
            "60000/60000 [==============================] - 5s 87us/step - loss: 0.2102 - val_loss: 0.2118\n",
            "Epoch 44/120\n",
            "60000/60000 [==============================] - 5s 87us/step - loss: 0.2102 - val_loss: 0.2104\n",
            "Epoch 45/120\n",
            "60000/60000 [==============================] - 5s 88us/step - loss: 0.2101 - val_loss: 0.2101\n",
            "Epoch 46/120\n",
            "60000/60000 [==============================] - 5s 87us/step - loss: 0.2103 - val_loss: 0.2100\n",
            "Epoch 47/120\n",
            "60000/60000 [==============================] - 5s 89us/step - loss: 0.2101 - val_loss: 0.2096\n",
            "Epoch 48/120\n",
            "60000/60000 [==============================] - 5s 87us/step - loss: 0.2101 - val_loss: 0.2114\n",
            "Epoch 49/120\n",
            "60000/60000 [==============================] - 5s 87us/step - loss: 0.2102 - val_loss: 0.2115\n",
            "Epoch 50/120\n",
            "60000/60000 [==============================] - 5s 87us/step - loss: 0.2102 - val_loss: 0.2100\n",
            "Epoch 51/120\n",
            "60000/60000 [==============================] - 5s 87us/step - loss: 0.2102 - val_loss: 0.2108\n",
            "Epoch 52/120\n",
            "60000/60000 [==============================] - 5s 87us/step - loss: 0.2100 - val_loss: 0.2107\n",
            "Epoch 53/120\n",
            "60000/60000 [==============================] - 5s 87us/step - loss: 0.2101 - val_loss: 0.2112\n",
            "Epoch 54/120\n",
            "60000/60000 [==============================] - 5s 88us/step - loss: 0.2101 - val_loss: 0.2108\n",
            "Epoch 55/120\n",
            "60000/60000 [==============================] - 5s 89us/step - loss: 0.2100 - val_loss: 0.2127\n",
            "Epoch 56/120\n",
            "60000/60000 [==============================] - 5s 88us/step - loss: 0.2101 - val_loss: 0.2106\n",
            "Epoch 57/120\n",
            "60000/60000 [==============================] - 5s 88us/step - loss: 0.2101 - val_loss: 0.2089\n",
            "Epoch 58/120\n",
            "60000/60000 [==============================] - 5s 88us/step - loss: 0.2101 - val_loss: 0.2104\n",
            "Epoch 59/120\n",
            "60000/60000 [==============================] - 5s 88us/step - loss: 0.2099 - val_loss: 0.2109\n",
            "Epoch 60/120\n",
            "60000/60000 [==============================] - 5s 88us/step - loss: 0.2101 - val_loss: 0.2110\n",
            "Epoch 61/120\n",
            "60000/60000 [==============================] - 5s 88us/step - loss: 0.2101 - val_loss: 0.2100\n",
            "Epoch 62/120\n",
            "60000/60000 [==============================] - 5s 88us/step - loss: 0.2099 - val_loss: 0.2108\n",
            "Epoch 63/120\n",
            "60000/60000 [==============================] - 5s 87us/step - loss: 0.2098 - val_loss: 0.2125\n",
            "Epoch 64/120\n",
            "60000/60000 [==============================] - 5s 87us/step - loss: 0.2101 - val_loss: 0.2103\n",
            "Epoch 65/120\n",
            "60000/60000 [==============================] - 5s 88us/step - loss: 0.2100 - val_loss: 0.2107\n",
            "Epoch 66/120\n",
            "60000/60000 [==============================] - 5s 88us/step - loss: 0.2099 - val_loss: 0.2109\n",
            "Epoch 67/120\n",
            "60000/60000 [==============================] - 5s 87us/step - loss: 0.2098 - val_loss: 0.2094\n",
            "Epoch 68/120\n",
            "60000/60000 [==============================] - 5s 87us/step - loss: 0.2098 - val_loss: 0.2090\n",
            "Epoch 69/120\n",
            "60000/60000 [==============================] - 5s 87us/step - loss: 0.2099 - val_loss: 0.2133\n",
            "Epoch 70/120\n",
            "60000/60000 [==============================] - 5s 89us/step - loss: 0.2098 - val_loss: 0.2108\n",
            "Epoch 71/120\n",
            "60000/60000 [==============================] - 5s 89us/step - loss: 0.2100 - val_loss: 0.2103\n",
            "Epoch 72/120\n",
            "60000/60000 [==============================] - 5s 89us/step - loss: 0.2101 - val_loss: 0.2094\n",
            "Epoch 73/120\n",
            "60000/60000 [==============================] - 5s 88us/step - loss: 0.2099 - val_loss: 0.2099\n",
            "Epoch 74/120\n",
            "60000/60000 [==============================] - 5s 88us/step - loss: 0.2099 - val_loss: 0.2102\n",
            "Epoch 75/120\n",
            "60000/60000 [==============================] - 5s 89us/step - loss: 0.2098 - val_loss: 0.2099\n",
            "Epoch 76/120\n",
            "60000/60000 [==============================] - 5s 89us/step - loss: 0.2098 - val_loss: 0.2102\n",
            "Epoch 77/120\n",
            "60000/60000 [==============================] - 5s 88us/step - loss: 0.2099 - val_loss: 0.2098\n",
            "Epoch 78/120\n",
            "60000/60000 [==============================] - 5s 88us/step - loss: 0.2099 - val_loss: 0.2100\n",
            "Epoch 79/120\n",
            "60000/60000 [==============================] - 5s 87us/step - loss: 0.2098 - val_loss: 0.2095\n",
            "Epoch 80/120\n",
            "60000/60000 [==============================] - 5s 87us/step - loss: 0.2098 - val_loss: 0.2103\n",
            "Epoch 81/120\n",
            "60000/60000 [==============================] - 5s 88us/step - loss: 0.2098 - val_loss: 0.2122\n",
            "Epoch 82/120\n",
            "60000/60000 [==============================] - 5s 87us/step - loss: 0.2097 - val_loss: 0.2137\n",
            "Epoch 83/120\n",
            "60000/60000 [==============================] - 5s 87us/step - loss: 0.2098 - val_loss: 0.2094\n",
            "Epoch 84/120\n",
            "60000/60000 [==============================] - 5s 87us/step - loss: 0.2097 - val_loss: 0.2099\n",
            "Epoch 85/120\n",
            "60000/60000 [==============================] - 5s 87us/step - loss: 0.2098 - val_loss: 0.2090\n",
            "Epoch 86/120\n",
            "60000/60000 [==============================] - 5s 87us/step - loss: 0.2096 - val_loss: 0.2135\n",
            "Epoch 87/120\n",
            "60000/60000 [==============================] - 5s 88us/step - loss: 0.2097 - val_loss: 0.2097\n",
            "Epoch 88/120\n",
            "60000/60000 [==============================] - 5s 87us/step - loss: 0.2097 - val_loss: 0.2107\n",
            "Epoch 89/120\n",
            "60000/60000 [==============================] - 5s 87us/step - loss: 0.2097 - val_loss: 0.2095\n",
            "Epoch 90/120\n",
            "60000/60000 [==============================] - 5s 87us/step - loss: 0.2096 - val_loss: 0.2100\n",
            "Epoch 91/120\n",
            "60000/60000 [==============================] - 5s 87us/step - loss: 0.2097 - val_loss: 0.2103\n",
            "Epoch 92/120\n",
            "60000/60000 [==============================] - 5s 88us/step - loss: 0.2096 - val_loss: 0.2100\n",
            "Epoch 93/120\n",
            "60000/60000 [==============================] - 5s 89us/step - loss: 0.2096 - val_loss: 0.2098\n",
            "Epoch 94/120\n",
            "60000/60000 [==============================] - 5s 88us/step - loss: 0.2097 - val_loss: 0.2104\n",
            "Epoch 95/120\n",
            "60000/60000 [==============================] - 5s 88us/step - loss: 0.2096 - val_loss: 0.2117\n",
            "Epoch 96/120\n",
            "60000/60000 [==============================] - 5s 88us/step - loss: 0.2096 - val_loss: 0.2091\n",
            "Epoch 97/120\n",
            "60000/60000 [==============================] - 5s 88us/step - loss: 0.2096 - val_loss: 0.2097\n",
            "Epoch 98/120\n",
            "60000/60000 [==============================] - 5s 88us/step - loss: 0.2095 - val_loss: 0.2107\n",
            "Epoch 99/120\n",
            "60000/60000 [==============================] - 5s 88us/step - loss: 0.2097 - val_loss: 0.2092\n",
            "Epoch 100/120\n",
            "60000/60000 [==============================] - 5s 87us/step - loss: 0.2095 - val_loss: 0.2090\n",
            "Epoch 101/120\n",
            "60000/60000 [==============================] - 5s 87us/step - loss: 0.2096 - val_loss: 0.2108\n",
            "Epoch 102/120\n",
            "60000/60000 [==============================] - 5s 87us/step - loss: 0.2095 - val_loss: 0.2100\n",
            "Epoch 103/120\n",
            "60000/60000 [==============================] - 5s 87us/step - loss: 0.2095 - val_loss: 0.2095\n",
            "Epoch 104/120\n",
            "60000/60000 [==============================] - 5s 87us/step - loss: 0.2096 - val_loss: 0.2102\n",
            "Epoch 105/120\n",
            "60000/60000 [==============================] - 5s 88us/step - loss: 0.2095 - val_loss: 0.2108\n",
            "Epoch 106/120\n",
            "60000/60000 [==============================] - 5s 87us/step - loss: 0.2096 - val_loss: 0.2087\n",
            "Epoch 107/120\n",
            "60000/60000 [==============================] - 5s 87us/step - loss: 0.2095 - val_loss: 0.2101\n",
            "Epoch 108/120\n",
            "60000/60000 [==============================] - 5s 87us/step - loss: 0.2095 - val_loss: 0.2094\n",
            "Epoch 109/120\n",
            "60000/60000 [==============================] - 5s 87us/step - loss: 0.2096 - val_loss: 0.2113\n",
            "Epoch 110/120\n",
            "60000/60000 [==============================] - 5s 87us/step - loss: 0.2095 - val_loss: 0.2098\n",
            "Epoch 111/120\n",
            "60000/60000 [==============================] - 5s 87us/step - loss: 0.2095 - val_loss: 0.2106\n",
            "Epoch 112/120\n",
            "60000/60000 [==============================] - 5s 87us/step - loss: 0.2095 - val_loss: 0.2102\n",
            "Epoch 113/120\n",
            "60000/60000 [==============================] - 5s 89us/step - loss: 0.2095 - val_loss: 0.2105\n",
            "Epoch 114/120\n",
            "60000/60000 [==============================] - 5s 89us/step - loss: 0.2094 - val_loss: 0.2108\n",
            "Epoch 115/120\n",
            "60000/60000 [==============================] - 5s 89us/step - loss: 0.2095 - val_loss: 0.2086\n",
            "Epoch 116/120\n",
            "60000/60000 [==============================] - 5s 88us/step - loss: 0.2095 - val_loss: 0.2099\n",
            "Epoch 117/120\n",
            "60000/60000 [==============================] - 5s 87us/step - loss: 0.2095 - val_loss: 0.2092\n",
            "Epoch 118/120\n",
            "60000/60000 [==============================] - 5s 87us/step - loss: 0.2093 - val_loss: 0.2103\n",
            "Epoch 119/120\n",
            "60000/60000 [==============================] - 5s 87us/step - loss: 0.2094 - val_loss: 0.2106\n",
            "Epoch 120/120\n",
            "60000/60000 [==============================] - 5s 87us/step - loss: 0.2095 - val_loss: 0.2090\n"
          ],
          "name": "stdout"
        },
        {
          "output_type": "execute_result",
          "data": {
            "text/plain": [
              "<keras.callbacks.History at 0x7f0730206828>"
            ]
          },
          "metadata": {
            "tags": []
          },
          "execution_count": 30
        }
      ]
    },
    {
      "metadata": {
        "id": "MjK30dARIQop",
        "colab_type": "code",
        "outputId": "9c30a1cc-e5f4-4403-8ce0-94ae8b2acaef",
        "colab": {
          "base_uri": "https://localhost:8080/",
          "height": 34
        }
      },
      "cell_type": "code",
      "source": [
        "# load weights into new model\n",
        "vae.load_weights(\"mnist_vae28_2_240epochs.h5\")\n",
        "\n",
        "print(\"Loaded model from disk\")"
      ],
      "execution_count": 22,
      "outputs": [
        {
          "output_type": "stream",
          "text": [
            "Loaded model from disk\n"
          ],
          "name": "stdout"
        }
      ]
    },
    {
      "metadata": {
        "id": "tT7hrwQ_I-KU",
        "colab_type": "code",
        "outputId": "0846a44c-2095-4430-b8a6-9e89658e8b75",
        "colab": {
          "base_uri": "https://localhost:8080/",
          "height": 281
        }
      },
      "cell_type": "code",
      "source": [
        "import matplotlib.pyplot as plt\n",
        "\n",
        "decoded_imgs = vae.predict(x_test)\n",
        "\n",
        "n = 10\n",
        "plt.figure(figsize=(20, 4))\n",
        "for i in range(1, n):\n",
        "    # display original\n",
        "    ax = plt.subplot(2, n, i)\n",
        "    plt.imshow(x_test[i].reshape(size, size))\n",
        "    plt.gray()\n",
        "    ax.get_xaxis().set_visible(False)\n",
        "    ax.get_yaxis().set_visible(False)\n",
        "\n",
        "    # display reconstruction\n",
        "    ax = plt.subplot(2, n, i + n)\n",
        "    plt.imshow(decoded_imgs[i].reshape(size, size))\n",
        "    plt.gray()\n",
        "    ax.get_xaxis().set_visible(False)\n",
        "    ax.get_yaxis().set_visible(False)\n",
        "plt.show()"
      ],
      "execution_count": 31,
      "outputs": [
        {
          "output_type": "execute_result",
          "data": {
            "text/plain": [
              "<matplotlib.figure.Figure at 0x7f0735f0cf98>"
            ]
          },
          "metadata": {
            "tags": []
          },
          "execution_count": 31
        },
        {
          "output_type": "execute_result",
          "data": {
            "text/plain": [
              "<matplotlib.image.AxesImage at 0x7f071cd1e4e0>"
            ]
          },
          "metadata": {
            "tags": []
          },
          "execution_count": 31
        },
        {
          "output_type": "execute_result",
          "data": {
            "text/plain": [
              "<matplotlib.image.AxesImage at 0x7f071ccd77b8>"
            ]
          },
          "metadata": {
            "tags": []
          },
          "execution_count": 31
        },
        {
          "output_type": "execute_result",
          "data": {
            "text/plain": [
              "<matplotlib.image.AxesImage at 0x7f071cc8fb70>"
            ]
          },
          "metadata": {
            "tags": []
          },
          "execution_count": 31
        },
        {
          "output_type": "execute_result",
          "data": {
            "text/plain": [
              "<matplotlib.image.AxesImage at 0x7f071cc3eef0>"
            ]
          },
          "metadata": {
            "tags": []
          },
          "execution_count": 31
        },
        {
          "output_type": "execute_result",
          "data": {
            "text/plain": [
              "<matplotlib.image.AxesImage at 0x7f071cc54518>"
            ]
          },
          "metadata": {
            "tags": []
          },
          "execution_count": 31
        },
        {
          "output_type": "execute_result",
          "data": {
            "text/plain": [
              "<matplotlib.image.AxesImage at 0x7f071cbbb9e8>"
            ]
          },
          "metadata": {
            "tags": []
          },
          "execution_count": 31
        },
        {
          "output_type": "execute_result",
          "data": {
            "text/plain": [
              "<matplotlib.image.AxesImage at 0x7f071cbf1da0>"
            ]
          },
          "metadata": {
            "tags": []
          },
          "execution_count": 31
        },
        {
          "output_type": "execute_result",
          "data": {
            "text/plain": [
              "<matplotlib.image.AxesImage at 0x7f071cba6c18>"
            ]
          },
          "metadata": {
            "tags": []
          },
          "execution_count": 31
        },
        {
          "output_type": "execute_result",
          "data": {
            "text/plain": [
              "<matplotlib.image.AxesImage at 0x7f071cb472e8>"
            ]
          },
          "metadata": {
            "tags": []
          },
          "execution_count": 31
        },
        {
          "output_type": "execute_result",
          "data": {
            "text/plain": [
              "<matplotlib.image.AxesImage at 0x7f071cb244a8>"
            ]
          },
          "metadata": {
            "tags": []
          },
          "execution_count": 31
        },
        {
          "output_type": "execute_result",
          "data": {
            "text/plain": [
              "<matplotlib.image.AxesImage at 0x7f071cadb860>"
            ]
          },
          "metadata": {
            "tags": []
          },
          "execution_count": 31
        },
        {
          "output_type": "execute_result",
          "data": {
            "text/plain": [
              "<matplotlib.image.AxesImage at 0x7f071cb33470>"
            ]
          },
          "metadata": {
            "tags": []
          },
          "execution_count": 31
        },
        {
          "output_type": "execute_result",
          "data": {
            "text/plain": [
              "<matplotlib.image.AxesImage at 0x7f071caae128>"
            ]
          },
          "metadata": {
            "tags": []
          },
          "execution_count": 31
        },
        {
          "output_type": "execute_result",
          "data": {
            "text/plain": [
              "<matplotlib.image.AxesImage at 0x7f071ca02e48>"
            ]
          },
          "metadata": {
            "tags": []
          },
          "execution_count": 31
        },
        {
          "output_type": "execute_result",
          "data": {
            "text/plain": [
              "<matplotlib.image.AxesImage at 0x7f071c9c4240>"
            ]
          },
          "metadata": {
            "tags": []
          },
          "execution_count": 31
        },
        {
          "output_type": "execute_result",
          "data": {
            "text/plain": [
              "<matplotlib.image.AxesImage at 0x7f071c9f97b8>"
            ]
          },
          "metadata": {
            "tags": []
          },
          "execution_count": 31
        },
        {
          "output_type": "execute_result",
          "data": {
            "text/plain": [
              "<matplotlib.image.AxesImage at 0x7f071c9ad400>"
            ]
          },
          "metadata": {
            "tags": []
          },
          "execution_count": 31
        },
        {
          "output_type": "execute_result",
          "data": {
            "text/plain": [
              "<matplotlib.image.AxesImage at 0x7f071c968828>"
            ]
          },
          "metadata": {
            "tags": []
          },
          "execution_count": 31
        },
        {
          "output_type": "display_data",
          "data": {
            "image/png": "[encoded data removed]",
            "text/plain": [
              "<matplotlib.figure.Figure at 0x7f0735f0cf98>"
            ]
          },
          "metadata": {
            "tags": []
          }
        }
      ]
    },
    {
      "metadata": {
        "id": "knvQFhRnnSac",
        "colab_type": "code",
        "colab": {}
      },
      "cell_type": "code",
      "source": [
        "import matplotlib.pyplot as plt\n",
        "\n",
        "decoded_imgs = vae.predict(x_test)\n",
        "\n",
        "n = 10\n",
        "plt.figure(figsize=(20, 4))\n",
        "for i in range(1, n):\n",
        "    # display original\n",
        "    ax = plt.subplot(2, n, i)\n",
        "    plt.imshow(x_test[i].reshape(size, size))\n",
        "    plt.gray()\n",
        "    ax.get_xaxis().set_visible(False)\n",
        "    ax.get_yaxis().set_visible(False)\n",
        "\n",
        "    # display reconstruction\n",
        "    ax = plt.subplot(2, n, i + n)\n",
        "    plt.imshow(decoded_imgs[i].reshape(size, size))\n",
        "    plt.gray()\n",
        "    ax.get_xaxis().set_visible(False)\n",
        "    ax.get_yaxis().set_visible(False)\n",
        "plt.show()"
      ],
      "execution_count": 0,
      "outputs": []
    },
    {
      "metadata": {
        "id": "44arYUbzTUou",
        "colab_type": "code",
        "colab": {}
      },
      "cell_type": "code",
      "source": [
        "\"\"\"Save models\"\"\"\n",
        "\n",
        "from google.colab import files\n",
        "\n",
        "# serialize model to JSON\n",
        "model_json = head_model.to_json()\n",
        "with open(\"model.json\", \"w\") as json_file:\n",
        "    json_file.write(model_json)\n",
        "files.download('model.json') \n",
        "    \n",
        "# serialize weights to HDF5\n",
        "head_model.save_weights(\"model.h5\")\n",
        "files.download('model.h5')\n",
        "\n",
        "print(\"Saved model to disk\")"
      ],
      "execution_count": 0,
      "outputs": []
    },
    {
      "metadata": {
        "id": "G6UOM_54KynH",
        "colab_type": "code",
        "colab": {}
      },
      "cell_type": "code",
      "source": [
        "from sklearn.cluster import KMeans\n",
        "\n",
        "kmeans = KMeans(n_clusters=10)"
      ],
      "execution_count": 0,
      "outputs": []
    },
    {
      "metadata": {
        "id": "yfk5vixKLFqc",
        "colab_type": "code",
        "colab": {}
      },
      "cell_type": "code",
      "source": [
        "encoded = encoder.predict(x_valid)\n",
        "print(encoded.shape)\n",
        "kmeans.fit(encoded)"
      ],
      "execution_count": 0,
      "outputs": []
    },
    {
      "metadata": {
        "id": "v29c7E2IMz89",
        "colab_type": "code",
        "colab": {}
      },
      "cell_type": "code",
      "source": [
        "labels = kmeans.fit_predict(encoded)"
      ],
      "execution_count": 0,
      "outputs": []
    },
    {
      "metadata": {
        "id": "WcY8GNi9NuuC",
        "colab_type": "code",
        "colab": {}
      },
      "cell_type": "code",
      "source": [
        "with open('proj_out_vals.tsv', 'w') as f:\n",
        "    for i in range(len(encoded)):\n",
        "        row = '\\t'.join([str(x) for x in encoded[i, :].tolist()]) + '\\n'\n",
        "        f.write(row)\n",
        "\n",
        "\n",
        "with open('proj_out_labs.tsv', 'w') as f:\n",
        "    for i in range(len(labels)):\n",
        "        row = '{}\\n'.format(str(labels[i]))\n",
        "        f.write(row)"
      ],
      "execution_count": 0,
      "outputs": []
    }
  ]
}