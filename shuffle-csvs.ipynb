{
 "cells": [
  {
   "cell_type": "code",
   "execution_count": 1,
   "metadata": {
    "_cell_guid": "b1076dfc-b9ad-4769-8c92-a6c4dae69d19",
    "_uuid": "8f2839f25d086af736a60e9eeb907d3b93b6e0e5"
   },
   "outputs": [],
   "source": [
    "import os\n",
    "import json\n",
    "\n",
    "import numpy as np\n",
    "import pandas as pd\n",
    "from tqdm import tqdm\n",
    "import datetime as dt\n",
    "import matplotlib.pyplot as plt\n",
    "from collections import Counter, defaultdict"
   ]
  },
  {
   "cell_type": "code",
   "execution_count": 2,
   "metadata": {
    "_cell_guid": "79c7e3d0-c299-4dcb-8224-4455121ee9b0",
    "_uuid": "d629ff2d2480ee46fbb7e2d37f6b5fab8052498a"
   },
   "outputs": [],
   "source": [
    "def f2cat(filename: str) -> str:\n",
    "    return filename.split('.')[0]\n",
    "\n",
    "class Simplified():\n",
    "    def __init__(self, input_path='./input'):\n",
    "        self.input_path = input_path\n",
    "\n",
    "    def list_all_categories(self):\n",
    "        files = os.listdir(os.path.join(self.input_path, 'train_simplified'))\n",
    "        if 'desktop.ini' in files: files.remove('desktop.ini')\n",
    "        return sorted([f2cat(f) for f in files], key=str.lower)\n",
    "\n",
    "    def read_training_csv(self, category, nrows=None, usecols=None):\n",
    "        df = pd.read_csv(os.path.join(self.input_path, 'train_simplified', category + '.csv'),\n",
    "                         nrows=nrows, parse_dates=['timestamp'], usecols=usecols)\n",
    "        df = df.drop(columns=['timestamp', 'word'])\n",
    "        df.drawing = df.drawing.apply(json.loads)\n",
    "        df.countrycode = df.countrycode.apply(lambda x: countrymap[x])\n",
    "        return df"
   ]
  },
  {
   "cell_type": "code",
   "execution_count": 3,
   "metadata": {},
   "outputs": [],
   "source": [
    "countrycodes = ['US', 'GB', 'CA', 'DE', 'AU', 'RU', 'BR', 'SE', 'FI', 'CZ', 'IT', 'PL', 'FR', 'KR', 'TH', 'PH', 'SA', 'HU', 'NL', 'ID', 'RO', 'IN', 'SK', 'VN', 'JP', 'AE', 'TW', 'UA', 'MY', 'NO', 'NZ', 'IE', 'HR', 'TR', 'RS', 'BG', 'HK', 'AT', 'DK', 'MX', 'ES', 'PT', 'CH', 'SG', 'BE', 'IL', 'AR', 'EE', 'ZA', 'BA', 'LT', 'IQ', 'GR', 'EG', 'KZ', 'LV', 'KW', 'DZ', 'CL', 'BY', 'CO', 'QA', 'KH', 'SI', 'JO', 'PK', 'ZZ', 'PE', 'BH', 'MA', 'MK', 'GE', 'MD', 'IS', 'OM', 'BD', 'PR', 'PS', 'VE', 'LB', 'EC', 'TN', 'NP', 'MT', 'CY', 'BN', 'ME', 'CR', 'TT', 'LU', 'AM', 'AL', 'UY', 'GU', 'DO', 'MO', 'AZ', 'RE', 'GT', 'HN', 'MV', 'PA', 'KE', 'KG', 'MN', 'SV', 'BO', 'MU', 'JM', 'CN', 'JE']\n",
    "countrymap = defaultdict(lambda: len(countrycodes), {key:i for i,key in enumerate(countrycodes)})"
   ]
  },
  {
   "cell_type": "code",
   "execution_count": 4,
   "metadata": {
    "_uuid": "0c8edb17435ea500d98aef554b38f551cdc17c93"
   },
   "outputs": [
    {
     "name": "stdout",
     "output_type": "stream",
     "text": [
      "340\n"
     ]
    }
   ],
   "source": [
    "start = dt.datetime.now()\n",
    "s = Simplified('../input')\n",
    "NCSVS = 200\n",
    "categories = s.list_all_categories()\n",
    "print(\"Total categories : \", len(categories))"
   ]
  },
  {
   "cell_type": "code",
   "execution_count": null,
   "metadata": {},
   "outputs": [],
   "source": [
    "ls = []\n",
    "recognized = Counter()\n",
    "countries = Counter()\n",
    "for y in tqdm(range(len(categories))):\n",
    "    cat = categories[y]\n",
    "    df = pd.read_csv('../input/train_simplified/'+cat+'.csv')\n",
    "    countries.update(dict(df.countrycode.value_counts()))\n",
    "    recognized.update(dict(df.recognized.value_counts()))\n",
    "    ls.append(len(df))"
   ]
  },
  {
   "cell_type": "code",
   "execution_count": null,
   "metadata": {},
   "outputs": [],
   "source": [
    "# Visualize country data\n",
    "breakdown = []\n",
    "for country in countries:\n",
    "    breakdown.append((country, countries[country], countries[country]/497057.090))\n",
    "\n",
    "breakdown = sorted(breakdown, key=lambda x: x[1], reverse=True)\n",
    "for data in breakdown[:10]: print(data[0], data[1], data[2])\n",
    "    \n",
    "fig, axs = plt.subplots()\n",
    "axs.plot([x[2] for x in breakdown], marker='.')\n",
    "axs.set_ylabel('% of datapoints')\n",
    "axs.set_xlabel('n-th country rank')"
   ]
  },
  {
   "cell_type": "code",
   "execution_count": null,
   "metadata": {
    "_uuid": "fa103ea464f8b04cce685a3084cdca920c062797"
   },
   "outputs": [
    {
     "name": "stderr",
     "output_type": "stream",
     "text": [
      " 21%|████████████████▉                                                                | 71/340 [06:28<21:03,  4.70s/it]"
     ]
    }
   ],
   "source": [
    "for y in tqdm(range(len(categories))):\n",
    "    cat = categories[y]\n",
    "    df = s.read_training_csv(cat, nrows=100000)\n",
    "    df['y'] = y\n",
    "    df['key_id'] = (df.key_id // 10 ** 7) % NCSVS\n",
    "    for k in range(NCSVS):\n",
    "        filename = 'shuffle_csvs/train_k{}.csv'.format(k)\n",
    "        chunk = df[df.key_id == k]\n",
    "        chunk = chunk.drop(['key_id'], axis=1)\n",
    "        if y==0: chunk.to_csv(filename, index=False)\n",
    "        else:    chunk.to_csv(filename, mode='a', header=False, index=False)"
   ]
  },
  {
   "cell_type": "code",
   "execution_count": null,
   "metadata": {
    "_uuid": "13ae737019609901a078648cacdae5f0f10b066f"
   },
   "outputs": [],
   "source": [
    "for k in tqdm(range(NCSVS)):\n",
    "    filename = 'shuffle_csvs/train_k{}.csv'.format(k)\n",
    "    if os.path.exists(filename):\n",
    "        df = pd.read_csv(filename)\n",
    "        df['rnd'] = np.random.rand(len(df))\n",
    "        df = df.sort_values(by='rnd').drop('rnd', axis=1)\n",
    "        df.to_csv(filename, index=False)# + '.gz', compression='gzip', index=False)\n",
    "#         os.remove(filename)\n",
    "print(df.shape)"
   ]
  },
  {
   "cell_type": "code",
   "execution_count": null,
   "metadata": {
    "_uuid": "82113b6b5196ebf453ebebda51ac181a8b904af7"
   },
   "outputs": [],
   "source": [
    "end = dt.datetime.now()\n",
    "print('Latest run {}.\\nTotal time {}s'.format(end, (end - start).seconds))"
   ]
  }
 ],
 "metadata": {
  "kernelspec": {
   "display_name": "Python 3",
   "language": "python",
   "name": "python3"
  },
  "language_info": {
   "codemirror_mode": {
    "name": "ipython",
    "version": 3
   },
   "file_extension": ".py",
   "mimetype": "text/x-python",
   "name": "python",
   "nbconvert_exporter": "python",
   "pygments_lexer": "ipython3",
   "version": "3.5.6"
  },
  "toc": {
   "base_numbering": 1,
   "nav_menu": {},
   "number_sections": true,
   "sideBar": true,
   "skip_h1_title": false,
   "title_cell": "Table of Contents",
   "title_sidebar": "Contents",
   "toc_cell": false,
   "toc_position": {},
   "toc_section_display": true,
   "toc_window_display": true
  }
 },
 "nbformat": 4,
 "nbformat_minor": 1
}
