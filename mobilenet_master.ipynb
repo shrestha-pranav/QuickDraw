{
 "cells": [
  {
   "cell_type": "markdown",
   "metadata": {
    "_cell_guid": "79c7e3d0-c299-4dcb-8224-4455121ee9b0",
    "_uuid": "d629ff2d2480ee46fbb7e2d37f6b5fab8052498a",
    "collapsed": true
   },
   "source": [
    "# Keras MobileNet Benchmark\n",
    "(Note: Forked from Beluga : [https://www.kaggle.com/gaborfodor/greyscale-mobilenet-lb-0-892])\n",
    "\n",
    "In a previous benchmark we used a simple three layer ConvNet. This time we use a deeper MobileNet architecture on greyscale strokes. \n",
    "\n",
    "This kernel has three main components:\n",
    "\n",
    "* MobileNet\n",
    "* Fast and memory efficient Image Generator with temporal \n",
    "* Full training & submission with Kaggle Kernel\n",
    "\n",
    "I did some paramer search but it should not be hard to improve the current score."
   ]
  },
  {
   "cell_type": "markdown",
   "metadata": {
    "_uuid": "f7f2a9516140a84124bf7bbf538ee4c30860b778"
   },
   "source": [
    "## Setup\n",
    "Import the necessary libraries and a few helper functions."
   ]
  },
  {
   "cell_type": "code",
   "execution_count": 1,
   "metadata": {
    "_kg_hide-input": true,
    "_uuid": "ce6d2aa7de1fa341144def7d3a5b1ffdea26bc91"
   },
   "outputs": [
    {
     "name": "stderr",
     "output_type": "stream",
     "text": [
      "Using TensorFlow backend.\n"
     ]
    }
   ],
   "source": [
    "%matplotlib inline\n",
    "from IPython.core.interactiveshell import InteractiveShell\n",
    "InteractiveShell.ast_node_interactivity = \"all\"\n",
    "\n",
    "import os\n",
    "import json\n",
    "import datetime as dt\n",
    "\n",
    "import cv2\n",
    "import math\n",
    "import numpy as np\n",
    "import pandas as pd\n",
    "from collections import defaultdict\n",
    "import matplotlib.pyplot as plt\n",
    "plt.rcParams['figure.figsize'] = [16, 10]\n",
    "plt.rcParams['font.size'] = 14\n",
    "\n",
    "import tensorflow as tf\n",
    "import keras\n",
    "from keras.models import Sequential\n",
    "from keras.layers import Conv2D, MaxPooling2D\n",
    "from keras.layers import Dense, Dropout, Flatten, Activation\n",
    "\n",
    "from keras.metrics import categorical_accuracy, top_k_categorical_accuracy, categorical_crossentropy\n",
    "from keras.callbacks import EarlyStopping, ReduceLROnPlateau, ModelCheckpoint, CSVLogger\n",
    "from keras.optimizers import Adam\n",
    "\n",
    "from keras.applications import MobileNet\n",
    "from keras.applications.mobilenet import preprocess_input\n",
    "\n",
    "start = dt.datetime.now()"
   ]
  },
  {
   "cell_type": "code",
   "execution_count": 2,
   "metadata": {
    "_kg_hide-input": true,
    "_uuid": "978b1e827e598c53df3ef09838a6d85591d83052"
   },
   "outputs": [],
   "source": [
    "DP_DIR = 'shuffle_csvs/'\n",
    "INPUT_DIR = '../input/'\n",
    "\n",
    "NCSVS = 200\n",
    "NCATS = 340\n",
    "np.random.seed(seed=1987)\n",
    "tf.set_random_seed(seed=1987)"
   ]
  },
  {
   "cell_type": "code",
   "execution_count": 3,
   "metadata": {},
   "outputs": [],
   "source": [
    "def f2cat(filename: str) -> str: return filename.split('.')[0]\n",
    "def list_all_categories(): return sorted([f2cat(f) for f in os.listdir(os.path.join(INPUT_DIR, 'train_simplified'))], key=str.lower)\n",
    "def apk(actual, predicted, k=3):\n",
    "    if len(predicted) > k: predicted = predicted[:k]\n",
    "    score, num_hits = 0.0, 0.0\n",
    "    for i, p in enumerate(predicted):\n",
    "        if p in actual and p not in predicted[:i]:\n",
    "            num_hits += 1.0\n",
    "            score += num_hits / (i + 1.0)\n",
    "    if len(actual)==0: return 0.0\n",
    "    return score / min(len(actual), k)\n",
    "def mapk(actual, predicted, k=3): return np.mean([apk(a, p, k) for a, p in zip(actual, predicted)])\n",
    "def preds2catids(predictions): return pd.DataFrame(np.argsort(-predictions, axis=1)[:, :3], columns=['a', 'b', 'c'])\n",
    "def top_3_accuracy(y_true, y_pred): return top_k_categorical_accuracy(y_true, y_pred, k=3)\n",
    "log_keys = ('loss', 'val_loss', 'categorical_accuracy', 'top_3_accuracy', 'val_categorical_accuracy', 'val_top_3_accuracy')\n",
    "def print_history(hists): print(\"\\n\".join([\"\\t\".join([\"%.3f\"%hist.history[key][-1] for key in log_keys]) for hist in hists]))"
   ]
  },
  {
   "cell_type": "markdown",
   "metadata": {
    "_uuid": "264156422a95e4b350886d558d516ae8bd2e25c0"
   },
   "source": [
    "## MobileNet\n",
    "\n",
    "MobileNets are based on a streamlined architecture that uses depthwise separable convolutions to build light weight deep neural networks.\n",
    "\n",
    "[MobileNets: Efficient Convolutional Neural Networks for Mobile Vision Applications](https://arxiv.org/pdf/1704.04861.pdf)"
   ]
  },
  {
   "cell_type": "code",
   "execution_count": 4,
   "metadata": {
    "_uuid": "54e5f0c637195b6624e2f3e6db5e7f8990e14eb7"
   },
   "outputs": [],
   "source": [
    "batchsize = 256\n",
    "STEPS = 2000\n",
    "val_steps = 500\n",
    "EPOCHS = 10"
   ]
  },
  {
   "cell_type": "code",
   "execution_count": 5,
   "metadata": {
    "_uuid": "f6455bf9555b8381b6a4292098a64a0eb7ff54dc"
   },
   "outputs": [],
   "source": [
    "image_size = 128\n",
    "time_color = True\n",
    "stroke_size = 3\n",
    "\n",
    "# Pre-compute downsizer and stroke color over time ranges for faster computation\n",
    "sampler = [round(i*(image_size-10)/256)+5 for i in range(512)]\n",
    "stroke_color = defaultdict(lambda: 125 if time_color else 255,\n",
    "        {t:255-min(t,10)*13 for t in range(10)} if time_color else {})"
   ]
  },
  {
   "cell_type": "code",
   "execution_count": 61,
   "metadata": {},
   "outputs": [],
   "source": [
    "def draw_cv2(img, raw_strokes):    \n",
    "    for t in range(len(raw_strokes)-1, -1, -1):\n",
    "        stroke = raw_strokes[t]\n",
    "        for i in range(len(stroke[0]) - 1):\n",
    "            cv2.line(img,\n",
    "                (sampler[stroke[0][i]],   sampler[stroke[1][i]]),\n",
    "                (sampler[stroke[0][i+1]], sampler[stroke[1][i+1]]),\n",
    "                stroke_color[i], stroke_size)"
   ]
  },
  {
   "cell_type": "code",
   "execution_count": 7,
   "metadata": {},
   "outputs": [],
   "source": [
    "def image_generator_xd(batchsize, ks):\n",
    "    while True:\n",
    "        for k in np.random.permutation(ks):\n",
    "            filename = os.path.join(DP_DIR, 'train_k{}.csv'.format(k))\n",
    "            for df in pd.read_csv(filename, chunksize=batchsize):\n",
    "                df.drawing = df.drawing.apply(json.loads)\n",
    "                \n",
    "                x = np.zeros((len(df), image_size, image_size, 1))\n",
    "                for i, raw_strokes in enumerate(df.drawing.values):\n",
    "                    draw_cv2(x[i], raw_strokes)\n",
    "                x = preprocess_input(x).astype(np.float32)\n",
    "                \n",
    "                y = keras.utils.to_categorical(df.y, num_classes=NCATS)\n",
    "                yield x, y"
   ]
  },
  {
   "cell_type": "code",
   "execution_count": null,
   "metadata": {},
   "outputs": [],
   "source": [
    "def draw_cv2(raw_strokes, size=size, lw=stroke_size, time_color=True):\n",
    "    img = np.zeros((size, size), np.uint8)\n",
    "    for t in range(len(raw_strokes)-1, -1, -1):\n",
    "        stroke = raw_strokes[t]\n",
    "        for i in range(len(stroke[0]) - 1):\n",
    "            color = 255 - min(t, 10) * 13 if time_color else 255\n",
    "            _ = cv2.line(img, (stroke[0][i], stroke[1][i]),\n",
    "                         (stroke[0][i + 1], stroke[1][i + 1]), color, lw)\n",
    "    return img\n",
    "\n",
    "    \n",
    "def sample(strokes, downsize_to=size-2):\n",
    "    division = 256 / downsize_to\n",
    "    for i in range(len(strokes)):\n",
    "        for j in range(len(strokes[i])):\n",
    "            for k in range(len(strokes[i][j])):\n",
    "                strokes[i][j][k] = round(strokes[i][j][k]/division)+1\n",
    "    return strokes\n",
    "\n",
    "def image_generator_xd(size, batchsize, ks, lw=stroke_size, time_color=True):\n",
    "    while True:\n",
    "        for k in np.random.permutation(ks):\n",
    "            filename = os.path.join(DP_DIR, 'train_k{}.csv.gz'.format(k))\n",
    "            for df in pd.read_csv(filename, chunksize=batchsize):\n",
    "                df['drawing'] = df.drawing.apply(ast.literal_eval)\n",
    "                df['scaled_drawing'] = df.drawing.apply(sample)\n",
    "                x = np.zeros((len(df), size, size, 1))\n",
    "                for i, raw_strokes in enumerate(df.scaled_drawing.values):\n",
    "                    x[i, :, :, 0] = draw_cv2(raw_strokes, lw=lw, time_color=True)\n",
    "                x = preprocess_input(x).astype(np.float32)\n",
    "                \n",
    "                df['drawing'] = df['drawing'].map(_stack_it)\n",
    "                \n",
    "                \n",
    "                y = keras.utils.to_categorical(df.y, num_classes=NCATS)\n",
    "                yield [x, np.stack(df['drawing'], 0)], y\n",
    "\n",
    "# def image_generator_xd(size, batchsize, ks, lw=stroke_size, time_color=True):\n",
    "#     while True:\n",
    "#         for k in np.random.permutation(ks):\n",
    "#             filename = os.path.join(DP_DIR, 'train_k{}.csv.gz'.format(k))\n",
    "#             for df in pd.read_csv(filename, chunksize=batchsize):\n",
    "#                 df['drawing1'] = df['drawing'].apply(ast.literal_eval)\n",
    "#                 x = np.zeros((len(df), size, size, 1))\n",
    "#                 for i, raw_strokes in enumerate(df.drawing1.values):\n",
    "#                     x[i, :, :, 0] = draw_cv2(raw_strokes, size=size, lw=lw,\n",
    "#                                              time_color=time_color)\n",
    "# #                 x = np.repeat(x, 3, axis =3)\n",
    "#                 x = preprocess_input(x).astype(np.float32)\n",
    "                \n",
    "#                 df['drawing'] = df['drawing'].map(_stack_it)\n",
    "#                 x2 = np.stack(df['drawing'], 0)\n",
    "#                 y = keras.utils.to_categorical(df.y, num_classes=NCATS)\n",
    "#                 yield [x, x2], y\n",
    "\n",
    "\n",
    "def df_to_image_array_xd(df, size, lw=stroke_size, time_color=True):\n",
    "    df['drawing'] = df.drawing.apply(ast.literal_eval)\n",
    "    df['scaled_drawing'] = df.drawing.apply(sample)\n",
    "    x = np.zeros((len(df), size, size, 1))\n",
    "    for i, raw_strokes in enumerate(df.scaled_drawing.values):\n",
    "        x[i, :, :, 0] = draw_cv2(raw_strokes, lw=lw, time_color=True)\n",
    "    x = preprocess_input(x).astype(np.float32)\n",
    "    \n",
    "    df['drawing'] = df['drawing'].map(_stack_it)\n",
    "    x2 = np.stack(df['drawing'], 0)\n",
    "\n",
    "    return [x, x2]\n",
    "\n",
    "# def df_to_image_array_xd(df, size, lw=stroke_size, time_color=True):\n",
    "#     df['drawing1'] = df['drawing'].apply(ast.literal_eval)\n",
    "#     x = np.zeros((len(df), size, size, 1))\n",
    "    \n",
    "#     for i, raw_strokes in enumerate(df.drawing1.values):\n",
    "#         x[i, :, :, 0] = draw_cv2(raw_strokes, size=size, lw=lw, time_color=time_color)\n",
    "# #     x = np.repeat(x, 3, axis =3)\n",
    "#     x = preprocess_input(x).astype(np.float32)\n",
    "#     df['drawing'] = df['drawing'].map(_stack_it)\n",
    "#     x2 = np.stack(df['drawing'], 0)\n",
    "#     return [x,x2]"
   ]
  },
  {
   "cell_type": "code",
   "execution_count": 8,
   "metadata": {
    "_uuid": "d80ad7f4d378ea7f30479221d604eeeed559cae4"
   },
   "outputs": [],
   "source": [
    "train_datagen = image_generator_xd(batchsize, range(190))\n",
    "valid_datagen = image_generator_xd(batchsize, range(190, 200))"
   ]
  },
  {
   "cell_type": "code",
   "execution_count": 9,
   "metadata": {},
   "outputs": [],
   "source": [
    "description = \"FastLoader.%d.%d.%d.%s\"%(image_size, batchsize, STEPS, dt.datetime.now().strftime(\"%d-%H%M%S\"))\n",
    "hist_file   = \"%s%s\"%(description, dt.datetime.now().strftime(\"%d-%H%M%S\"))\n",
    "hist_csv    = \"%s%s.csv\"%(description, dt.datetime.now().strftime(\"%d-%H%M%S\"))"
   ]
  },
  {
   "cell_type": "code",
   "execution_count": 10,
   "metadata": {
    "_uuid": "9ce5fb89fbb77777316d6fca7689b6636c0e6021"
   },
   "outputs": [
    {
     "data": {
      "image/png": "[encoded data removed]",
      "text/plain": [
       "<Figure size 864x864 with 64 Axes>"
      ]
     },
     "metadata": {
      "needs_background": "light"
     },
     "output_type": "display_data"
    }
   ],
   "source": [
    "x, y = next(train_datagen)\n",
    "n = 8\n",
    "fig, axs = plt.subplots(nrows=n, ncols=n, sharex=True, sharey=True, figsize=(12, 12))\n",
    "for i in range(n**2):\n",
    "    ax = axs[i // n, i % n]\n",
    "    (-x[i]+1)/2\n",
    "    ax.imshow((-x[i, :, :, 0] + 1)/2, cmap=plt.cm.gray)\n",
    "    ax.axis('off')\n",
    "plt.tight_layout()\n",
    "fig.savefig('%s.png'%description, dpi=300)\n",
    "plt.show();"
   ]
  },
  {
   "cell_type": "code",
   "execution_count": 12,
   "metadata": {},
   "outputs": [],
   "source": [
    "# MobileNet(input_shape=None, alpha=1.0, depth_multiplier=1,\n",
    "#           dropout=1e-3, include_top=True, weights='imagenet',\n",
    "#           input_tensor=None, pooling=None, classes=1000)\n",
    "\n",
    "base_model = MobileNet(input_shape=(image_size, image_size, 1), alpha=1.,\n",
    "                  weights=None, dropout=0.2, classes=NCATS)\n",
    "base_model.load_weights(\"FastLoader.128.256.2000.02-0.78.h5\")\n",
    "base_model.compile(optimizer=Adam(lr=0.0005000000237487257), loss='categorical_crossentropy',\n",
    "              metrics=[categorical_accuracy, top_3_accuracy])"
   ]
  },
  {
   "cell_type": "code",
   "execution_count": null,
   "metadata": {},
   "outputs": [],
   "source": [
    "0.0005000000237487257"
   ]
  },
  {
   "cell_type": "code",
   "execution_count": 13,
   "metadata": {},
   "outputs": [],
   "source": [
    "callbacks = [\n",
    "    ReduceLROnPlateau(monitor='val_categorical_accuracy', factor=0.5, patience=5,\n",
    "                      min_delta=0.005, mode='max', cooldown=3, verbose=1),\n",
    "    ModelCheckpoint(\"%s.{epoch:02d}-{val_loss:.2f}.h5\"%description,\n",
    "                    monitor='val_categorical_accuracy',\n",
    "                    save_weights_only=True, mode='auto', period=1),\n",
    "    keras.callbacks.CSVLogger(hist_csv, separator=',', append=True)\n",
    "]"
   ]
  },
  {
   "cell_type": "code",
   "execution_count": null,
   "metadata": {
    "_uuid": "da72d70fc1781e80427d45a80c07b3571dda0b36"
   },
   "outputs": [],
   "source": [
    "hists = []\n",
    "hist = base_model.fit_generator(\n",
    "    train_datagen,\n",
    "    validation_data=valid_datagen, validation_steps=val_steps, \n",
    "    steps_per_epoch=STEPS, epochs=EPOCHS, verbose=1,\n",
    "    callbacks = callbacks\n",
    ")\n",
    "hists.append(hist)\n",
    "print_history(hists)"
   ]
  },
  {
   "cell_type": "code",
   "execution_count": null,
   "metadata": {
    "_kg_hide-input": true,
    "_kg_hide-output": true,
    "_uuid": "ada344bf3454765298e7b7ed7861c82bca2d2084"
   },
   "outputs": [],
   "source": [
    "hist = base_model.fit_generator(\n",
    "    train_datagen,\n",
    "    validation_data=valid_datagen, validation_steps=val_steps, \n",
    "    steps_per_epoch=STEPS, epochs=EPOCHS, verbose=1,\n",
    "    callbacks = callbacks\n",
    ")\n",
    "hists.append(hist)\n",
    "print_history(hists)"
   ]
  },
  {
   "cell_type": "code",
   "execution_count": null,
   "metadata": {
    "_kg_hide-input": true,
    "_kg_hide-output": true,
    "_uuid": "4a3a0cfef0d984d5b02872617e0eb2ad8a791964",
    "scrolled": false
   },
   "outputs": [],
   "source": [
    "hist = base_model.fit_generator(\n",
    "    train_datagen,\n",
    "    validation_data=valid_datagen, validation_steps=val_steps, \n",
    "    steps_per_epoch=STEPS, epochs=EPOCHS, verbose=1,\n",
    "    callbacks = callbacks\n",
    ")\n",
    "hists.append(hist)\n",
    "print_history(hists)"
   ]
  },
  {
   "cell_type": "code",
   "execution_count": 22,
   "metadata": {},
   "outputs": [
    {
     "name": "stdout",
     "output_type": "stream",
     "text": [
      "0.776\t0.756\t0.800\t0.924\t0.805\t0.926\n"
     ]
    }
   ],
   "source": [
    "hists = []\n",
    "hists.append(hist)\n",
    "print_history(hists)\n",
    "pickle.dump([hist.history for hist in hists], open(hist_file, \"wb\"))"
   ]
  },
  {
   "cell_type": "code",
   "execution_count": 50,
   "metadata": {},
   "outputs": [
    {
     "name": "stdout",
     "output_type": "stream",
     "text": [
      "Epoch 1/10\n",
      "2000/2000 [==============================] - 680s 340ms/step - loss: 0.7740 - categorical_crossentropy: 0.7740 - categorical_accuracy: 0.8006 - top_3_accuracy: 0.9239 - val_loss: 0.7582 - val_categorical_crossentropy: 0.7582 - val_categorical_accuracy: 0.8043 - val_top_3_accuracy: 0.9256\n",
      "Epoch 2/10\n",
      "2000/2000 [==============================] - 682s 341ms/step - loss: 0.7702 - categorical_crossentropy: 0.7702 - categorical_accuracy: 0.8006 - top_3_accuracy: 0.9243 - val_loss: 0.7664 - val_categorical_crossentropy: 0.7664 - val_categorical_accuracy: 0.8019 - val_top_3_accuracy: 0.9246\n",
      "Epoch 3/10\n",
      "2000/2000 [==============================] - 681s 340ms/step - loss: 0.7706 - categorical_crossentropy: 0.7706 - categorical_accuracy: 0.8003 - top_3_accuracy: 0.9247 - val_loss: 0.7527 - val_categorical_crossentropy: 0.7527 - val_categorical_accuracy: 0.8052 - val_top_3_accuracy: 0.9269\n",
      "Epoch 4/10\n",
      "2000/2000 [==============================] - 681s 341ms/step - loss: 0.7683 - categorical_crossentropy: 0.7683 - categorical_accuracy: 0.8011 - top_3_accuracy: 0.9249 - val_loss: 0.7549 - val_categorical_crossentropy: 0.7549 - val_categorical_accuracy: 0.8039 - val_top_3_accuracy: 0.9265\n",
      "Epoch 5/10\n",
      "2000/2000 [==============================] - 682s 341ms/step - loss: 0.7614 - categorical_crossentropy: 0.7614 - categorical_accuracy: 0.8030 - top_3_accuracy: 0.9256 - val_loss: 0.7581 - val_categorical_crossentropy: 0.7581 - val_categorical_accuracy: 0.8030 - val_top_3_accuracy: 0.9261\n",
      "Epoch 6/10\n",
      "2000/2000 [==============================] - 682s 341ms/step - loss: 0.7532 - categorical_crossentropy: 0.7532 - categorical_accuracy: 0.8040 - top_3_accuracy: 0.9267 - val_loss: 0.7562 - val_categorical_crossentropy: 0.7562 - val_categorical_accuracy: 0.8046 - val_top_3_accuracy: 0.9266\n",
      "\n",
      "Epoch 00006: ReduceLROnPlateau reducing learning rate to 0.0001250000059371814.\n",
      "Epoch 7/10\n",
      "2000/2000 [==============================] - 682s 341ms/step - loss: 0.7515 - categorical_crossentropy: 0.7515 - categorical_accuracy: 0.8056 - top_3_accuracy: 0.9264 - val_loss: 0.7463 - val_categorical_crossentropy: 0.7463 - val_categorical_accuracy: 0.8062 - val_top_3_accuracy: 0.9277\n",
      "Epoch 8/10\n",
      "2000/2000 [==============================] - 682s 341ms/step - loss: 0.7457 - categorical_crossentropy: 0.7457 - categorical_accuracy: 0.8064 - top_3_accuracy: 0.9269 - val_loss: 0.7557 - val_categorical_crossentropy: 0.7557 - val_categorical_accuracy: 0.8053 - val_top_3_accuracy: 0.9262\n",
      "Epoch 9/10\n",
      "2000/2000 [==============================] - 680s 340ms/step - loss: 0.7665 - categorical_crossentropy: 0.7665 - categorical_accuracy: 0.8022 - top_3_accuracy: 0.9251 - val_loss: 0.7529 - val_categorical_crossentropy: 0.7529 - val_categorical_accuracy: 0.8060 - val_top_3_accuracy: 0.9271\n",
      "Epoch 10/10\n",
      "2000/2000 [==============================] - 681s 340ms/step - loss: 0.7618 - categorical_crossentropy: 0.7618 - categorical_accuracy: 0.8038 - top_3_accuracy: 0.9258 - val_loss: 0.7470 - val_categorical_crossentropy: 0.7470 - val_categorical_accuracy: 0.8072 - val_top_3_accuracy: 0.9273\n",
      "0.776\t0.756\t0.800\t0.924\t0.805\t0.926\n",
      "0.762\t0.747\t0.804\t0.926\t0.807\t0.927\n"
     ]
    },
    {
     "ename": "TypeError",
     "evalue": "Object of type 'History' is not JSON serializable",
     "output_type": "error",
     "traceback": [
      "\u001b[1;31m---------------------------------------------------------------------------\u001b[0m",
      "\u001b[1;31mTypeError\u001b[0m                                 Traceback (most recent call last)",
      "\u001b[1;32m<ipython-input-50-984b50f57fc6>\u001b[0m in \u001b[0;36m<module>\u001b[1;34m\u001b[0m\n\u001b[0;32m      7\u001b[0m \u001b[0mhists\u001b[0m\u001b[1;33m.\u001b[0m\u001b[0mappend\u001b[0m\u001b[1;33m(\u001b[0m\u001b[0mhist\u001b[0m\u001b[1;33m)\u001b[0m\u001b[1;33m\u001b[0m\u001b[1;33m\u001b[0m\u001b[0m\n\u001b[0;32m      8\u001b[0m \u001b[0mprint_history\u001b[0m\u001b[1;33m(\u001b[0m\u001b[0mhists\u001b[0m\u001b[1;33m)\u001b[0m\u001b[1;33m\u001b[0m\u001b[1;33m\u001b[0m\u001b[0m\n\u001b[1;32m----> 9\u001b[1;33m \u001b[1;32mwith\u001b[0m \u001b[0mopen\u001b[0m\u001b[1;33m(\u001b[0m\u001b[0mhist_file\u001b[0m\u001b[1;33m,\u001b[0m \u001b[1;34m'w'\u001b[0m\u001b[1;33m)\u001b[0m \u001b[1;32mas\u001b[0m \u001b[0moutfile\u001b[0m\u001b[1;33m:\u001b[0m \u001b[0mjson\u001b[0m\u001b[1;33m.\u001b[0m\u001b[0mdump\u001b[0m\u001b[1;33m(\u001b[0m\u001b[0mhists\u001b[0m\u001b[1;33m,\u001b[0m \u001b[0moutfile\u001b[0m\u001b[1;33m)\u001b[0m\u001b[1;33m\u001b[0m\u001b[1;33m\u001b[0m\u001b[0m\n\u001b[0m",
      "\u001b[1;32m~\\Anaconda3\\envs\\tf-gpu\\lib\\json\\__init__.py\u001b[0m in \u001b[0;36mdump\u001b[1;34m(obj, fp, skipkeys, ensure_ascii, check_circular, allow_nan, cls, indent, separators, default, sort_keys, **kw)\u001b[0m\n\u001b[0;32m    177\u001b[0m     \u001b[1;31m# could accelerate with writelines in some versions of Python, at\u001b[0m\u001b[1;33m\u001b[0m\u001b[1;33m\u001b[0m\u001b[1;33m\u001b[0m\u001b[0m\n\u001b[0;32m    178\u001b[0m     \u001b[1;31m# a debuggability cost\u001b[0m\u001b[1;33m\u001b[0m\u001b[1;33m\u001b[0m\u001b[1;33m\u001b[0m\u001b[0m\n\u001b[1;32m--> 179\u001b[1;33m     \u001b[1;32mfor\u001b[0m \u001b[0mchunk\u001b[0m \u001b[1;32min\u001b[0m \u001b[0miterable\u001b[0m\u001b[1;33m:\u001b[0m\u001b[1;33m\u001b[0m\u001b[1;33m\u001b[0m\u001b[0m\n\u001b[0m\u001b[0;32m    180\u001b[0m         \u001b[0mfp\u001b[0m\u001b[1;33m.\u001b[0m\u001b[0mwrite\u001b[0m\u001b[1;33m(\u001b[0m\u001b[0mchunk\u001b[0m\u001b[1;33m)\u001b[0m\u001b[1;33m\u001b[0m\u001b[1;33m\u001b[0m\u001b[0m\n\u001b[0;32m    181\u001b[0m \u001b[1;33m\u001b[0m\u001b[0m\n",
      "\u001b[1;32m~\\Anaconda3\\envs\\tf-gpu\\lib\\json\\encoder.py\u001b[0m in \u001b[0;36m_iterencode\u001b[1;34m(o, _current_indent_level)\u001b[0m\n\u001b[0;32m    426\u001b[0m             \u001b[1;32myield\u001b[0m \u001b[0m_floatstr\u001b[0m\u001b[1;33m(\u001b[0m\u001b[0mo\u001b[0m\u001b[1;33m)\u001b[0m\u001b[1;33m\u001b[0m\u001b[1;33m\u001b[0m\u001b[0m\n\u001b[0;32m    427\u001b[0m         \u001b[1;32melif\u001b[0m \u001b[0misinstance\u001b[0m\u001b[1;33m(\u001b[0m\u001b[0mo\u001b[0m\u001b[1;33m,\u001b[0m \u001b[1;33m(\u001b[0m\u001b[0mlist\u001b[0m\u001b[1;33m,\u001b[0m \u001b[0mtuple\u001b[0m\u001b[1;33m)\u001b[0m\u001b[1;33m)\u001b[0m\u001b[1;33m:\u001b[0m\u001b[1;33m\u001b[0m\u001b[1;33m\u001b[0m\u001b[0m\n\u001b[1;32m--> 428\u001b[1;33m             \u001b[1;32myield\u001b[0m \u001b[1;32mfrom\u001b[0m \u001b[0m_iterencode_list\u001b[0m\u001b[1;33m(\u001b[0m\u001b[0mo\u001b[0m\u001b[1;33m,\u001b[0m \u001b[0m_current_indent_level\u001b[0m\u001b[1;33m)\u001b[0m\u001b[1;33m\u001b[0m\u001b[1;33m\u001b[0m\u001b[0m\n\u001b[0m\u001b[0;32m    429\u001b[0m         \u001b[1;32melif\u001b[0m \u001b[0misinstance\u001b[0m\u001b[1;33m(\u001b[0m\u001b[0mo\u001b[0m\u001b[1;33m,\u001b[0m \u001b[0mdict\u001b[0m\u001b[1;33m)\u001b[0m\u001b[1;33m:\u001b[0m\u001b[1;33m\u001b[0m\u001b[1;33m\u001b[0m\u001b[0m\n\u001b[0;32m    430\u001b[0m             \u001b[1;32myield\u001b[0m \u001b[1;32mfrom\u001b[0m \u001b[0m_iterencode_dict\u001b[0m\u001b[1;33m(\u001b[0m\u001b[0mo\u001b[0m\u001b[1;33m,\u001b[0m \u001b[0m_current_indent_level\u001b[0m\u001b[1;33m)\u001b[0m\u001b[1;33m\u001b[0m\u001b[1;33m\u001b[0m\u001b[0m\n",
      "\u001b[1;32m~\\Anaconda3\\envs\\tf-gpu\\lib\\json\\encoder.py\u001b[0m in \u001b[0;36m_iterencode_list\u001b[1;34m(lst, _current_indent_level)\u001b[0m\n\u001b[0;32m    323\u001b[0m                 \u001b[1;32melse\u001b[0m\u001b[1;33m:\u001b[0m\u001b[1;33m\u001b[0m\u001b[1;33m\u001b[0m\u001b[0m\n\u001b[0;32m    324\u001b[0m                     \u001b[0mchunks\u001b[0m \u001b[1;33m=\u001b[0m \u001b[0m_iterencode\u001b[0m\u001b[1;33m(\u001b[0m\u001b[0mvalue\u001b[0m\u001b[1;33m,\u001b[0m \u001b[0m_current_indent_level\u001b[0m\u001b[1;33m)\u001b[0m\u001b[1;33m\u001b[0m\u001b[1;33m\u001b[0m\u001b[0m\n\u001b[1;32m--> 325\u001b[1;33m                 \u001b[1;32myield\u001b[0m \u001b[1;32mfrom\u001b[0m \u001b[0mchunks\u001b[0m\u001b[1;33m\u001b[0m\u001b[1;33m\u001b[0m\u001b[0m\n\u001b[0m\u001b[0;32m    326\u001b[0m         \u001b[1;32mif\u001b[0m \u001b[0mnewline_indent\u001b[0m \u001b[1;32mis\u001b[0m \u001b[1;32mnot\u001b[0m \u001b[1;32mNone\u001b[0m\u001b[1;33m:\u001b[0m\u001b[1;33m\u001b[0m\u001b[1;33m\u001b[0m\u001b[0m\n\u001b[0;32m    327\u001b[0m             \u001b[0m_current_indent_level\u001b[0m \u001b[1;33m-=\u001b[0m \u001b[1;36m1\u001b[0m\u001b[1;33m\u001b[0m\u001b[1;33m\u001b[0m\u001b[0m\n",
      "\u001b[1;32m~\\Anaconda3\\envs\\tf-gpu\\lib\\json\\encoder.py\u001b[0m in \u001b[0;36m_iterencode\u001b[1;34m(o, _current_indent_level)\u001b[0m\n\u001b[0;32m    435\u001b[0m                     \u001b[1;32mraise\u001b[0m \u001b[0mValueError\u001b[0m\u001b[1;33m(\u001b[0m\u001b[1;34m\"Circular reference detected\"\u001b[0m\u001b[1;33m)\u001b[0m\u001b[1;33m\u001b[0m\u001b[1;33m\u001b[0m\u001b[0m\n\u001b[0;32m    436\u001b[0m                 \u001b[0mmarkers\u001b[0m\u001b[1;33m[\u001b[0m\u001b[0mmarkerid\u001b[0m\u001b[1;33m]\u001b[0m \u001b[1;33m=\u001b[0m \u001b[0mo\u001b[0m\u001b[1;33m\u001b[0m\u001b[1;33m\u001b[0m\u001b[0m\n\u001b[1;32m--> 437\u001b[1;33m             \u001b[0mo\u001b[0m \u001b[1;33m=\u001b[0m \u001b[0m_default\u001b[0m\u001b[1;33m(\u001b[0m\u001b[0mo\u001b[0m\u001b[1;33m)\u001b[0m\u001b[1;33m\u001b[0m\u001b[1;33m\u001b[0m\u001b[0m\n\u001b[0m\u001b[0;32m    438\u001b[0m             \u001b[1;32myield\u001b[0m \u001b[1;32mfrom\u001b[0m \u001b[0m_iterencode\u001b[0m\u001b[1;33m(\u001b[0m\u001b[0mo\u001b[0m\u001b[1;33m,\u001b[0m \u001b[0m_current_indent_level\u001b[0m\u001b[1;33m)\u001b[0m\u001b[1;33m\u001b[0m\u001b[1;33m\u001b[0m\u001b[0m\n\u001b[0;32m    439\u001b[0m             \u001b[1;32mif\u001b[0m \u001b[0mmarkers\u001b[0m \u001b[1;32mis\u001b[0m \u001b[1;32mnot\u001b[0m \u001b[1;32mNone\u001b[0m\u001b[1;33m:\u001b[0m\u001b[1;33m\u001b[0m\u001b[1;33m\u001b[0m\u001b[0m\n",
      "\u001b[1;32m~\\Anaconda3\\envs\\tf-gpu\\lib\\json\\encoder.py\u001b[0m in \u001b[0;36mdefault\u001b[1;34m(self, o)\u001b[0m\n\u001b[0;32m    178\u001b[0m         \"\"\"\n\u001b[0;32m    179\u001b[0m         raise TypeError(\"Object of type '%s' is not JSON serializable\" %\n\u001b[1;32m--> 180\u001b[1;33m                         o.__class__.__name__)\n\u001b[0m\u001b[0;32m    181\u001b[0m \u001b[1;33m\u001b[0m\u001b[0m\n\u001b[0;32m    182\u001b[0m     \u001b[1;32mdef\u001b[0m \u001b[0mencode\u001b[0m\u001b[1;33m(\u001b[0m\u001b[0mself\u001b[0m\u001b[1;33m,\u001b[0m \u001b[0mo\u001b[0m\u001b[1;33m)\u001b[0m\u001b[1;33m:\u001b[0m\u001b[1;33m\u001b[0m\u001b[1;33m\u001b[0m\u001b[0m\n",
      "\u001b[1;31mTypeError\u001b[0m: Object of type 'History' is not JSON serializable"
     ]
    }
   ],
   "source": [
    "hist = base_model.fit_generator(\n",
    "    train_datagen,\n",
    "    validation_data=valid_datagen, validation_steps=val_steps, \n",
    "    steps_per_epoch=STEPS, epochs=EPOCHS, verbose=1,\n",
    "    callbacks = callbacks\n",
    ")\n",
    "hists.append(hist)\n",
    "print_history(hists)"
   ]
  },
  {
   "cell_type": "code",
   "execution_count": null,
   "metadata": {},
   "outputs": [],
   "source": [
    "hist = base_model.fit_generator(\n",
    "    train_datagen,\n",
    "    validation_data=valid_datagen, validation_steps=val_steps, \n",
    "    steps_per_epoch=STEPS, epochs=EPOCHS, verbose=1,\n",
    "    callbacks = callbacks\n",
    ")\n",
    "hists.append(hist)\n",
    "print_history(hists)"
   ]
  },
  {
   "cell_type": "code",
   "execution_count": 59,
   "metadata": {},
   "outputs": [],
   "source": [
    "hist_df_load = pd.read_csv('hist.csv')"
   ]
  },
  {
   "cell_type": "code",
   "execution_count": 60,
   "metadata": {
    "_uuid": "05767778d356bc63b7cded355159fd4082eee1a5",
    "scrolled": false
   },
   "outputs": [
    {
     "data": {
      "image/png": "[encoded data removed]",
      "text/plain": [
       "<Figure size 1152x720 with 2 Axes>"
      ]
     },
     "metadata": {
      "needs_background": "light"
     },
     "output_type": "display_data"
    }
   ],
   "source": [
    "hist_df = pd.concat([pd.DataFrame(hist.history) for hist in hists], sort=True)\n",
    "hist_df = pd.concat([hist_df_load, hist_df], sort=True)\n",
    "hist_df.index = np.arange(1, len(hist_df)+1)\n",
    "fig, axs = plt.subplots(nrows=2, sharex=True, figsize=(16, 10))\n",
    "axs[0].plot(hist_df.val_categorical_accuracy, lw=5, label='Validation Accuracy')\n",
    "axs[0].plot(hist_df.categorical_accuracy, lw=5, label='Training Accuracy')\n",
    "axs[0].plot(hist_df.top_3_accuracy, lw=5, label='Training Top3 Accuracy')\n",
    "axs[0].plot(hist_df.val_top_3_accuracy, lw=5, label='Validation Top3 Accuracy')\n",
    "axs[0].set_ylabel('Accuracy')\n",
    "axs[0].set_xlabel('Epoch')\n",
    "axs[0].grid()\n",
    "axs[0].legend(loc=0)\n",
    "axs[1].plot(hist_df.val_categorical_crossentropy, lw=5, label='Validation MLogLoss')\n",
    "axs[1].plot(hist_df.categorical_crossentropy, lw=5, label='Training MLogLoss')\n",
    "axs[1].set_ylabel('MLogLoss')\n",
    "axs[1].set_xlabel('Epoch')\n",
    "axs[1].grid()\n",
    "axs[1].legend(loc=0)\n",
    "fig.savefig('%s.png'%description, dpi=300)\n",
    "plt.show();"
   ]
  },
  {
   "cell_type": "code",
   "execution_count": 51,
   "metadata": {
    "_uuid": "8c1927f22d3c45cba0bdee7d6f4b6c858d82d614"
   },
   "outputs": [
    {
     "name": "stdout",
     "output_type": "stream",
     "text": [
      "Map3: 0.859\n"
     ]
    }
   ],
   "source": [
    "maps = []\n",
    "for i in range(50):\n",
    "    x_valid, y_valid = next(valid_datagen)\n",
    "    valid_predictions = base_model.predict(x_valid, batch_size=256)\n",
    "    map3 = mapk(np.argmax(y_valid, axis=1).reshape(-1,1), preds2catids(valid_predictions).values)\n",
    "    maps.append(map3)\n",
    "map3 = np.array(maps).mean()\n",
    "print('Map3: {:.3f}'.format(map3))"
   ]
  },
  {
   "cell_type": "markdown",
   "metadata": {
    "_uuid": "be4577a9ba00611697eea8f241a42c504981e86f"
   },
   "source": [
    "## Create Submission"
   ]
  },
  {
   "cell_type": "code",
   "execution_count": 53,
   "metadata": {},
   "outputs": [],
   "source": [
    "def image_generator_test(filename, batchsize):\n",
    "    for df in pd.read_csv(filename, chunksize=batchsize):\n",
    "        df.drawing = df.drawing.apply(json.loads)\n",
    "\n",
    "        x = np.zeros((len(df), image_size, image_size, 1))\n",
    "        for i, raw_strokes in enumerate(df.drawing.values):\n",
    "            draw_cv2(x[i], raw_strokes)\n",
    "        x = preprocess_input(x).astype(np.float32)\n",
    "\n",
    "        yield x"
   ]
  },
  {
   "cell_type": "code",
   "execution_count": 54,
   "metadata": {},
   "outputs": [],
   "source": [
    "filepath     = os.path.join(INPUT_DIR, 'test_simplified.csv')\n",
    "test_datagen = image_generator_test(filepath, batchsize)\n",
    "test_predictions = base_model.predict_generator(test_datagen, steps=439)"
   ]
  },
  {
   "cell_type": "code",
   "execution_count": 55,
   "metadata": {},
   "outputs": [],
   "source": [
    "test = pd.read_csv(filepath)"
   ]
  },
  {
   "cell_type": "code",
   "execution_count": 56,
   "metadata": {
    "_uuid": "608b02f5c7909ae62becbe5c931b7264171296e8"
   },
   "outputs": [
    {
     "data": {
      "text/html": [
       "<div>\n",
       "<style scoped>\n",
       "    .dataframe tbody tr th:only-of-type {\n",
       "        vertical-align: middle;\n",
       "    }\n",
       "\n",
       "    .dataframe tbody tr th {\n",
       "        vertical-align: top;\n",
       "    }\n",
       "\n",
       "    .dataframe thead th {\n",
       "        text-align: right;\n",
       "    }\n",
       "</style>\n",
       "<table border=\"1\" class=\"dataframe\">\n",
       "  <thead>\n",
       "    <tr style=\"text-align: right;\">\n",
       "      <th></th>\n",
       "      <th>a</th>\n",
       "      <th>b</th>\n",
       "      <th>c</th>\n",
       "    </tr>\n",
       "  </thead>\n",
       "  <tbody>\n",
       "    <tr>\n",
       "      <th>0</th>\n",
       "      <td>234</td>\n",
       "      <td>281</td>\n",
       "      <td>1</td>\n",
       "    </tr>\n",
       "    <tr>\n",
       "      <th>1</th>\n",
       "      <td>144</td>\n",
       "      <td>36</td>\n",
       "      <td>226</td>\n",
       "    </tr>\n",
       "    <tr>\n",
       "      <th>2</th>\n",
       "      <td>305</td>\n",
       "      <td>62</td>\n",
       "      <td>53</td>\n",
       "    </tr>\n",
       "    <tr>\n",
       "      <th>3</th>\n",
       "      <td>187</td>\n",
       "      <td>304</td>\n",
       "      <td>303</td>\n",
       "    </tr>\n",
       "    <tr>\n",
       "      <th>4</th>\n",
       "      <td>113</td>\n",
       "      <td>56</td>\n",
       "      <td>165</td>\n",
       "    </tr>\n",
       "  </tbody>\n",
       "</table>\n",
       "</div>"
      ],
      "text/plain": [
       "     a    b    c\n",
       "0  234  281    1\n",
       "1  144   36  226\n",
       "2  305   62   53\n",
       "3  187  304  303\n",
       "4  113   56  165"
      ]
     },
     "execution_count": 56,
     "metadata": {},
     "output_type": "execute_result"
    },
    {
     "data": {
      "text/plain": [
       "(112199, 3)"
      ]
     },
     "execution_count": 56,
     "metadata": {},
     "output_type": "execute_result"
    },
    {
     "data": {
      "text/html": [
       "<div>\n",
       "<style scoped>\n",
       "    .dataframe tbody tr th:only-of-type {\n",
       "        vertical-align: middle;\n",
       "    }\n",
       "\n",
       "    .dataframe tbody tr th {\n",
       "        vertical-align: top;\n",
       "    }\n",
       "\n",
       "    .dataframe thead th {\n",
       "        text-align: right;\n",
       "    }\n",
       "</style>\n",
       "<table border=\"1\" class=\"dataframe\">\n",
       "  <thead>\n",
       "    <tr style=\"text-align: right;\">\n",
       "      <th></th>\n",
       "      <th>a</th>\n",
       "      <th>b</th>\n",
       "      <th>c</th>\n",
       "    </tr>\n",
       "  </thead>\n",
       "  <tbody>\n",
       "    <tr>\n",
       "      <th>0</th>\n",
       "      <td>radio</td>\n",
       "      <td>stereo</td>\n",
       "      <td>alarm_clock</td>\n",
       "    </tr>\n",
       "    <tr>\n",
       "      <th>1</th>\n",
       "      <td>hockey_puck</td>\n",
       "      <td>bottlecap</td>\n",
       "      <td>pool</td>\n",
       "    </tr>\n",
       "    <tr>\n",
       "      <th>2</th>\n",
       "      <td>The_Great_Wall_of_China</td>\n",
       "      <td>castle</td>\n",
       "      <td>camel</td>\n",
       "    </tr>\n",
       "    <tr>\n",
       "      <th>3</th>\n",
       "      <td>mountain</td>\n",
       "      <td>The_Eiffel_Tower</td>\n",
       "      <td>tent</td>\n",
       "    </tr>\n",
       "    <tr>\n",
       "      <th>4</th>\n",
       "      <td>fireplace</td>\n",
       "      <td>campfire</td>\n",
       "      <td>leaf</td>\n",
       "    </tr>\n",
       "  </tbody>\n",
       "</table>\n",
       "</div>"
      ],
      "text/plain": [
       "                         a                 b            c\n",
       "0                    radio            stereo  alarm_clock\n",
       "1              hockey_puck         bottlecap         pool\n",
       "2  The_Great_Wall_of_China            castle        camel\n",
       "3                 mountain  The_Eiffel_Tower         tent\n",
       "4                fireplace          campfire         leaf"
      ]
     },
     "execution_count": 56,
     "metadata": {},
     "output_type": "execute_result"
    },
    {
     "data": {
      "text/plain": [
       "(112199, 3)"
      ]
     },
     "execution_count": 56,
     "metadata": {},
     "output_type": "execute_result"
    }
   ],
   "source": [
    "top3 = preds2catids(test_predictions)\n",
    "top3.head()\n",
    "top3.shape\n",
    "\n",
    "cats = list_all_categories()\n",
    "id2cat = {k: cat.replace(' ', '_') for k, cat in enumerate(cats)}\n",
    "top3cats = top3.replace(id2cat)\n",
    "top3cats.head()\n",
    "top3cats.shape"
   ]
  },
  {
   "cell_type": "code",
   "execution_count": 57,
   "metadata": {
    "_uuid": "52e0f9c44f2a9a38fd1550ffb9c07fb7ea22b17d"
   },
   "outputs": [
    {
     "data": {
      "text/html": [
       "<div>\n",
       "<style scoped>\n",
       "    .dataframe tbody tr th:only-of-type {\n",
       "        vertical-align: middle;\n",
       "    }\n",
       "\n",
       "    .dataframe tbody tr th {\n",
       "        vertical-align: top;\n",
       "    }\n",
       "\n",
       "    .dataframe thead th {\n",
       "        text-align: right;\n",
       "    }\n",
       "</style>\n",
       "<table border=\"1\" class=\"dataframe\">\n",
       "  <thead>\n",
       "    <tr style=\"text-align: right;\">\n",
       "      <th></th>\n",
       "      <th>key_id</th>\n",
       "      <th>word</th>\n",
       "    </tr>\n",
       "  </thead>\n",
       "  <tbody>\n",
       "    <tr>\n",
       "      <th>0</th>\n",
       "      <td>9000003627287624</td>\n",
       "      <td>radio stereo alarm_clock</td>\n",
       "    </tr>\n",
       "    <tr>\n",
       "      <th>1</th>\n",
       "      <td>9000010688666847</td>\n",
       "      <td>hockey_puck bottlecap pool</td>\n",
       "    </tr>\n",
       "    <tr>\n",
       "      <th>2</th>\n",
       "      <td>9000023642890129</td>\n",
       "      <td>The_Great_Wall_of_China castle camel</td>\n",
       "    </tr>\n",
       "    <tr>\n",
       "      <th>3</th>\n",
       "      <td>9000038588854897</td>\n",
       "      <td>mountain The_Eiffel_Tower tent</td>\n",
       "    </tr>\n",
       "    <tr>\n",
       "      <th>4</th>\n",
       "      <td>9000052667981386</td>\n",
       "      <td>fireplace campfire leaf</td>\n",
       "    </tr>\n",
       "  </tbody>\n",
       "</table>\n",
       "</div>"
      ],
      "text/plain": [
       "             key_id                                  word\n",
       "0  9000003627287624              radio stereo alarm_clock\n",
       "1  9000010688666847            hockey_puck bottlecap pool\n",
       "2  9000023642890129  The_Great_Wall_of_China castle camel\n",
       "3  9000038588854897        mountain The_Eiffel_Tower tent\n",
       "4  9000052667981386               fireplace campfire leaf"
      ]
     },
     "execution_count": 57,
     "metadata": {},
     "output_type": "execute_result"
    },
    {
     "data": {
      "text/plain": [
       "(112199, 2)"
      ]
     },
     "execution_count": 57,
     "metadata": {},
     "output_type": "execute_result"
    }
   ],
   "source": [
    "test['word'] = top3cats['a'] + ' ' + top3cats['b'] + ' ' + top3cats['c']\n",
    "submission = test[['key_id', 'word']]\n",
    "submission.to_csv('{}{}.csv'.format(description, int(map3 * 10**4)), index=False)\n",
    "submission.head()\n",
    "submission.shape"
   ]
  },
  {
   "cell_type": "code",
   "execution_count": 58,
   "metadata": {
    "_uuid": "b418f4c06c4e4453aa1b5ab16dde344eb8b735c5"
   },
   "outputs": [
    {
     "name": "stdout",
     "output_type": "stream",
     "text": [
      "Latest run 2018-12-01 23:28:09.548775.\n",
      "Total time 15496s\n"
     ]
    }
   ],
   "source": [
    "end = dt.datetime.now()\n",
    "print('Latest run {}.\\nTotal time {}s'.format(end, (end - start).seconds))"
   ]
  }
 ],
 "metadata": {
  "kernelspec": {
   "display_name": "TensorflowGPU",
   "language": "python",
   "name": "tf-gpu"
  },
  "language_info": {
   "codemirror_mode": {
    "name": "ipython",
    "version": 3
   },
   "file_extension": ".py",
   "mimetype": "text/x-python",
   "name": "python",
   "nbconvert_exporter": "python",
   "pygments_lexer": "ipython3",
   "version": "3.6.7"
  }
 },
 "nbformat": 4,
 "nbformat_minor": 1
}
